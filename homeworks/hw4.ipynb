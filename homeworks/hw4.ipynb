{
 "cells": [
  {
   "cell_type": "markdown",
   "metadata": {},
   "source": [
    "# Task 1"
   ]
  },
  {
   "cell_type": "markdown",
   "metadata": {},
   "source": [
    "$$\n",
    "H_0 = a_0 = 0.7\\\\\n",
    "H_1 \\neq 0.7\\\\\n",
    "t(x_1, ..., x_n) = \\frac{\\sqrt{n}(\\overline{x} - a_0)}{\\tilde{s}} \\simeq t(n - 1)\\\\\n",
    "$$\n",
    "\n",
    "Sample: 80 from 100 are 1, other 20 are 0.\n",
    "\n",
    "I will change $\\alpha$ to find the border value to reject $H_0$.\n",
    "\n",
    "Confidence interval is central and symmetrical, borders are quantiles for given $\\alpha$."
   ]
  },
  {
   "cell_type": "code",
   "execution_count": 1,
   "metadata": {},
   "outputs": [
    {
     "data": {
      "text/plain": [
       "2.487468592766557"
      ]
     },
     "execution_count": 1,
     "metadata": {},
     "output_type": "execute_result"
    }
   ],
   "source": [
    "def criterion_value(a0, sample):\n",
    "    a = mean(sample)\n",
    "    s = s_asymptotic(sample)\n",
    "    n = len(sample)\n",
    "    return (n**(1/2)) * (a - a0) / s\n",
    "\n",
    "def s_asymptotic(sample):\n",
    "    a = mean(sample)\n",
    "    sum_squares = sum([(elem - a)**2 for elem in sample])\n",
    "    return (sum_squares / (len(sample) - 1)) ** (1/2)\n",
    "\n",
    "def mean(sample):\n",
    "    return sum(sample) / len(sample)\n",
    "\n",
    "sample = [0 for i in range(20)] + [1 for i in range(80)]\n",
    "\n",
    "a0 = 0.7\n",
    "\n",
    "criterion_value(a0, sample)"
   ]
  },
  {
   "cell_type": "code",
   "execution_count": 2,
   "metadata": {},
   "outputs": [],
   "source": [
    "from scipy.stats import t\n",
    "import numpy as np"
   ]
  },
  {
   "cell_type": "code",
   "execution_count": 3,
   "metadata": {},
   "outputs": [
    {
     "name": "stdout",
     "output_type": "stream",
     "text": [
      "2.487468592766557\n",
      "0.0\n",
      "[-inf  inf]\n",
      "True\n",
      "0.1\n",
      "[-1.29016144  1.29016144]\n",
      "False\n",
      "0.2\n",
      "[-0.84526703  0.84526703]\n",
      "False\n",
      "0.30000000000000004\n",
      "[-0.52609324  0.52609324]\n",
      "False\n",
      "0.4\n",
      "[-0.25402901  0.25402901]\n",
      "False\n",
      "0.5\n",
      "[6.65477341e-17 6.65477341e-17]\n",
      "False\n",
      "0.6000000000000001\n",
      "[ 0.25402901 -0.25402901]\n",
      "False\n",
      "0.7000000000000001\n",
      "[ 0.52609324 -0.52609324]\n",
      "False\n",
      "0.8\n",
      "[ 0.84526703 -0.84526703]\n",
      "False\n",
      "0.9\n",
      "[ 1.29016144 -1.29016144]\n",
      "False\n",
      "1.0\n",
      "[ inf -inf]\n",
      "False\n"
     ]
    },
    {
     "data": {
      "text/plain": [
       "[True, False, False, False, False, False, False, False, False, False, False]"
      ]
     },
     "execution_count": 3,
     "metadata": {},
     "output_type": "execute_result"
    }
   ],
   "source": [
    "def is_in_conf_interval(criterion, conf_interval):\n",
    "    return conf_interval[0] <= criterion <= conf_interval[1]\n",
    "\n",
    "def confidence_interval(n, alpha):\n",
    "    \n",
    "    return t(df = n - 1).ppf((alpha, 1 - alpha))\n",
    "\n",
    "def check_hypothesis(sample, a0, arange, debug = True):\n",
    "    n = len(sample)\n",
    "    criterion = criterion_value(a0, sample)\n",
    "    if (debug):\n",
    "        print(criterion)\n",
    "    res = [0 for i in arange]\n",
    "    for i in range(len(arange)):\n",
    "        alpha = arange[i]\n",
    "        conf_interval = confidence_interval(n, alpha)\n",
    "        answer = is_in_conf_interval(criterion, conf_interval)\n",
    "        if (debug):\n",
    "            print(alpha)\n",
    "            print(conf_interval)\n",
    "            print(answer)\n",
    "        res[i] = answer\n",
    "    return res\n",
    "\n",
    "check_hypothesis(sample, a0, np.arange(0.0, 1.1, 0.1))"
   ]
  },
  {
   "cell_type": "code",
   "execution_count": 4,
   "metadata": {},
   "outputs": [
    {
     "name": "stdout",
     "output_type": "stream",
     "text": [
      "2.487468592766557\n",
      "0.0\n",
      "[-inf  inf]\n",
      "True\n",
      "0.01\n",
      "[-2.36460586  2.36460586]\n",
      "False\n",
      "0.02\n",
      "[-2.08116154  2.08116154]\n",
      "False\n",
      "0.03\n",
      "[-1.90259013  1.90259013]\n",
      "False\n",
      "0.04\n",
      "[-1.76884234  1.76884234]\n",
      "False\n",
      "0.05\n",
      "[-1.66039116  1.66039116]\n",
      "False\n",
      "0.06\n",
      "[-1.56830857  1.56830857]\n",
      "False\n",
      "0.07\n",
      "[-1.4877316  1.4877316]\n",
      "False\n",
      "0.08\n",
      "[-1.41570578  1.41570578]\n",
      "False\n",
      "0.09\n",
      "[-1.3502957  1.3502957]\n",
      "False\n"
     ]
    },
    {
     "data": {
      "text/plain": [
       "[True, False, False, False, False, False, False, False, False, False]"
      ]
     },
     "execution_count": 4,
     "metadata": {},
     "output_type": "execute_result"
    }
   ],
   "source": [
    "check_hypothesis(sample, a0, np.arange(0.0, 0.1, 0.01))"
   ]
  },
  {
   "cell_type": "code",
   "execution_count": 5,
   "metadata": {},
   "outputs": [
    {
     "name": "stdout",
     "output_type": "stream",
     "text": [
      "2.487468592766557\n",
      "0.0\n",
      "[-inf  inf]\n",
      "True\n",
      "0.001\n",
      "[-3.17460384  3.17460384]\n",
      "True\n",
      "0.002\n",
      "[-2.94712597  2.94712597]\n",
      "True\n",
      "0.003\n",
      "[-2.80832311  2.80832311]\n",
      "True\n",
      "0.004\n",
      "[-2.70690903  2.70690903]\n",
      "True\n",
      "0.005\n",
      "[-2.62640546  2.62640546]\n",
      "True\n",
      "0.006\n",
      "[-2.55934321  2.55934321]\n",
      "True\n",
      "0.007\n",
      "[-2.50168237  2.50168237]\n",
      "True\n",
      "0.008\n",
      "[-2.45098324  2.45098324]\n",
      "False\n",
      "0.009000000000000001\n",
      "[-2.40565613  2.40565613]\n",
      "False\n"
     ]
    },
    {
     "data": {
      "text/plain": [
       "[True, True, True, True, True, True, True, True, False, False]"
      ]
     },
     "execution_count": 5,
     "metadata": {},
     "output_type": "execute_result"
    }
   ],
   "source": [
    "check_hypothesis(sample, a0, np.arange(0.0, 0.01, 0.001))"
   ]
  },
  {
   "cell_type": "markdown",
   "metadata": {},
   "source": [
    "I believe that there must be really small significant level, so we can reject $H_0$ with standart $\\alpha = 0.05$ or even $0.01$\n",
    "\n",
    "The next question is: What if 740 out of 1000 patients in the test group recovered after one week?"
   ]
  },
  {
   "cell_type": "code",
   "execution_count": 6,
   "metadata": {},
   "outputs": [
    {
     "name": "stdout",
     "output_type": "stream",
     "text": [
      "2.8823067684915764\n",
      "0.0\n",
      "[-inf  inf]\n",
      "True\n",
      "0.1\n",
      "[-1.28239957  1.28239957]\n",
      "False\n",
      "0.2\n",
      "[-0.84198118  0.84198118]\n",
      "False\n",
      "0.30000000000000004\n",
      "[-0.52456787  0.52456787]\n",
      "False\n",
      "0.4\n",
      "[-0.25341458  0.25341458]\n",
      "False\n",
      "0.5\n",
      "[6.63965128e-17 6.63965128e-17]\n",
      "False\n",
      "0.6000000000000001\n",
      "[ 0.25341458 -0.25341458]\n",
      "False\n",
      "0.7000000000000001\n",
      "[ 0.52456787 -0.52456787]\n",
      "False\n",
      "0.8\n",
      "[ 0.84198118 -0.84198118]\n",
      "False\n",
      "0.9\n",
      "[ 1.28239957 -1.28239957]\n",
      "False\n",
      "1.0\n",
      "[ inf -inf]\n",
      "False\n"
     ]
    },
    {
     "data": {
      "text/plain": [
       "[True, False, False, False, False, False, False, False, False, False, False]"
      ]
     },
     "execution_count": 6,
     "metadata": {},
     "output_type": "execute_result"
    }
   ],
   "source": [
    "sample = [0 for i in range(1000 - 740)] + [1 for i in range(740)]\n",
    "\n",
    "check_hypothesis(sample, a0, np.arange(0.0, 1.1, 0.1))"
   ]
  },
  {
   "cell_type": "code",
   "execution_count": 7,
   "metadata": {},
   "outputs": [
    {
     "name": "stdout",
     "output_type": "stream",
     "text": [
      "2.8823067684915764\n",
      "0.0\n",
      "[-inf  inf]\n",
      "True\n",
      "0.01\n",
      "[-2.33008642  2.33008642]\n",
      "False\n",
      "0.02\n",
      "[-2.05643407  2.05643407]\n",
      "False\n",
      "0.03\n",
      "[-1.88293161  1.88293161]\n",
      "False\n",
      "0.04\n",
      "[-1.75246875  1.75246875]\n",
      "False\n",
      "0.05\n",
      "[-1.64638035  1.64638035]\n",
      "False\n",
      "0.06\n",
      "[-1.55610437  1.55610437]\n",
      "False\n",
      "0.07\n",
      "[-1.47696565  1.47696565]\n",
      "False\n",
      "0.08\n",
      "[-1.40611815  1.40611815]\n",
      "False\n",
      "0.09\n",
      "[-1.34169438  1.34169438]\n",
      "False\n"
     ]
    },
    {
     "data": {
      "text/plain": [
       "[True, False, False, False, False, False, False, False, False, False]"
      ]
     },
     "execution_count": 7,
     "metadata": {},
     "output_type": "execute_result"
    }
   ],
   "source": [
    "check_hypothesis(sample, a0, np.arange(0.0, 0.1, 0.01))"
   ]
  },
  {
   "cell_type": "code",
   "execution_count": 8,
   "metadata": {},
   "outputs": [
    {
     "name": "stdout",
     "output_type": "stream",
     "text": [
      "2.8823067684915764\n",
      "0.0\n",
      "[-inf  inf]\n",
      "True\n",
      "0.001\n",
      "[-3.09841036  3.09841036]\n",
      "True\n",
      "0.002\n",
      "[-2.88486291  2.88486291]\n",
      "True\n",
      "0.003\n",
      "[-2.7536726  2.7536726]\n",
      "False\n",
      "0.004\n",
      "[-2.65741153  2.65741153]\n",
      "False\n",
      "0.005\n",
      "[-2.58075964  2.58075964]\n",
      "False\n",
      "0.006\n",
      "[-2.51674837  2.51674837]\n",
      "False\n",
      "0.007\n",
      "[-2.4615986  2.4615986]\n",
      "False\n",
      "0.008\n",
      "[-2.41302319  2.41302319]\n",
      "False\n",
      "0.009000000000000001\n",
      "[-2.36952918  2.36952918]\n",
      "False\n"
     ]
    },
    {
     "data": {
      "text/plain": [
       "[True, True, True, False, False, False, False, False, False, False]"
      ]
     },
     "execution_count": 8,
     "metadata": {},
     "output_type": "execute_result"
    }
   ],
   "source": [
    "check_hypothesis(sample, a0, np.arange(0.0, 0.01, 0.001))"
   ]
  },
  {
   "cell_type": "markdown",
   "metadata": {},
   "source": [
    "For 740 cured from 1000 $H_0$ can also be rejected with $\\alpha = 0.05$ or even $0.01$, it works for $\\alpha = 0.003$.\n",
    "\n",
    "This happens because our sample size has grown.\n",
    "\n",
    "If the mean = 0.74 and sample size still be 100 we wouldn't reject $H_0$ for about $\\alpha = 0.18$."
   ]
  },
  {
   "cell_type": "code",
   "execution_count": 9,
   "metadata": {},
   "outputs": [
    {
     "name": "stdout",
     "output_type": "stream",
     "text": [
      "0.9073504412765924\n",
      "0.0\n",
      "[-inf  inf]\n",
      "True\n",
      "0.01\n",
      "[-2.36460586  2.36460586]\n",
      "True\n",
      "0.02\n",
      "[-2.08116154  2.08116154]\n",
      "True\n",
      "0.03\n",
      "[-1.90259013  1.90259013]\n",
      "True\n",
      "0.04\n",
      "[-1.76884234  1.76884234]\n",
      "True\n",
      "0.05\n",
      "[-1.66039116  1.66039116]\n",
      "True\n",
      "0.06\n",
      "[-1.56830857  1.56830857]\n",
      "True\n",
      "0.07\n",
      "[-1.4877316  1.4877316]\n",
      "True\n",
      "0.08\n",
      "[-1.41570578  1.41570578]\n",
      "True\n",
      "0.09\n",
      "[-1.3502957  1.3502957]\n",
      "True\n"
     ]
    },
    {
     "data": {
      "text/plain": [
       "[True, True, True, True, True, True, True, True, True, True]"
      ]
     },
     "execution_count": 9,
     "metadata": {},
     "output_type": "execute_result"
    }
   ],
   "source": [
    "sample = [0 for i in range(100 - 74)] + [1 for i in range(74)]\n",
    "check_hypothesis(sample, a0, np.arange(0.0, 0.1, 0.01))"
   ]
  },
  {
   "cell_type": "code",
   "execution_count": 10,
   "metadata": {},
   "outputs": [
    {
     "name": "stdout",
     "output_type": "stream",
     "text": [
      "0.9073504412765924\n",
      "0.1\n",
      "[-1.29016144  1.29016144]\n",
      "True\n",
      "0.11\n",
      "[-1.23433514  1.23433514]\n",
      "True\n",
      "0.12\n",
      "[-1.18209374  1.18209374]\n",
      "True\n",
      "0.13\n",
      "[-1.13288209  1.13288209]\n",
      "True\n",
      "0.13999999999999999\n",
      "[-1.08626414  1.08626414]\n",
      "True\n",
      "0.14999999999999997\n",
      "[-1.04189076  1.04189076]\n",
      "True\n",
      "0.15999999999999998\n",
      "[-0.99947776  0.99947776]\n",
      "True\n",
      "0.16999999999999998\n",
      "[-0.95879052  0.95879052]\n",
      "True\n",
      "0.17999999999999997\n",
      "[-0.91963284  0.91963284]\n",
      "True\n",
      "0.18999999999999995\n",
      "[-0.88183888  0.88183888]\n",
      "False\n"
     ]
    },
    {
     "data": {
      "text/plain": [
       "[True, True, True, True, True, True, True, True, True, False]"
      ]
     },
     "execution_count": 10,
     "metadata": {},
     "output_type": "execute_result"
    }
   ],
   "source": [
    "check_hypothesis(sample, a0, np.arange(0.1, 0.2, 0.01))"
   ]
  },
  {
   "cell_type": "markdown",
   "metadata": {},
   "source": [
    "# Task 2"
   ]
  },
  {
   "cell_type": "code",
   "execution_count": 11,
   "metadata": {},
   "outputs": [],
   "source": [
    "from numpy.random import normal"
   ]
  },
  {
   "cell_type": "code",
   "execution_count": 12,
   "metadata": {},
   "outputs": [
    {
     "data": {
      "text/plain": [
       "array([ 1.02532159,  1.01469132,  1.80866559,  2.31804366,  1.22046624,\n",
       "       -0.2275119 , -0.85325158, -1.26007886, -0.12380698,  1.03515767])"
      ]
     },
     "execution_count": 12,
     "metadata": {},
     "output_type": "execute_result"
    }
   ],
   "source": [
    "def generate_sample(n, a):\n",
    "    return normal(a, 1, n)\n",
    "\n",
    "generate_sample(10, a0)"
   ]
  },
  {
   "cell_type": "code",
   "execution_count": 13,
   "metadata": {},
   "outputs": [
    {
     "name": "stdout",
     "output_type": "stream",
     "text": [
      "0.9073504412765924\n",
      "0.5\n",
      "[6.65477341e-17 6.65477341e-17]\n",
      "False\n"
     ]
    },
    {
     "data": {
      "text/plain": [
       "False"
      ]
     },
     "execution_count": 13,
     "metadata": {},
     "output_type": "execute_result"
    }
   ],
   "source": [
    "def check_hypothesis2(sample, a0, alpha, debug = True):\n",
    "    n = len(sample)\n",
    "    criterion = criterion_value(a0, sample)\n",
    "    if (debug):\n",
    "        print(criterion)\n",
    "    conf_interval = confidence_interval(n, alpha)\n",
    "    answer = is_in_conf_interval(criterion, conf_interval)\n",
    "    if (debug):\n",
    "        print(alpha)\n",
    "        print(conf_interval)\n",
    "        print(answer)\n",
    "    return answer\n",
    "\n",
    "check_hypothesis2(sample, a0, 0.5)"
   ]
  },
  {
   "cell_type": "code",
   "execution_count": 14,
   "metadata": {},
   "outputs": [
    {
     "data": {
      "text/plain": [
       "0.27"
      ]
     },
     "execution_count": 14,
     "metadata": {},
     "output_type": "execute_result"
    }
   ],
   "source": [
    "m = 100\n",
    "n = 100\n",
    "a0 = 0.7\n",
    "\n",
    "def a1_error_for_alpha(m, n, a0, alpha):\n",
    "    res = [0 for i in range(m)]\n",
    "    for i in range(m):\n",
    "        sample = generate_sample(n, a0)\n",
    "        res[i] = int(check_hypothesis2(sample, a0, alpha, False))\n",
    "    return 1 - sum(res)/m\n",
    "\n",
    "a1_error_for_alpha(m, n, a0, 0.1)"
   ]
  },
  {
   "cell_type": "code",
   "execution_count": 15,
   "metadata": {},
   "outputs": [],
   "source": [
    "def check_alpha_dependency_a1_error():\n",
    "    alphas = np.arange(0, 1, 0.05)\n",
    "    res = {}\n",
    "    for alpha in alphas:\n",
    "        res[alpha] = a1_error_for_alpha(m, n, a0, alpha)\n",
    "    return res\n",
    "\n",
    "dots = check_alpha_dependency_a1_error()"
   ]
  },
  {
   "cell_type": "code",
   "execution_count": 16,
   "metadata": {},
   "outputs": [],
   "source": [
    "import matplotlib.pyplot as plt"
   ]
  },
  {
   "cell_type": "code",
   "execution_count": 17,
   "metadata": {},
   "outputs": [
    {
     "data": {
      "text/plain": [
       "<matplotlib.collections.PathCollection at 0x7f855f369a00>"
      ]
     },
     "execution_count": 17,
     "metadata": {},
     "output_type": "execute_result"
    },
    {
     "data": {
      "image/png": "[encoded data removed]",
      "text/plain": [
       "<Figure size 432x288 with 1 Axes>"
      ]
     },
     "metadata": {
      "needs_background": "light"
     },
     "output_type": "display_data"
    }
   ],
   "source": [
    "xs = dots.keys()\n",
    "ys = [dots[i] for i in xs]\n",
    "plt.scatter(xs, ys)"
   ]
  },
  {
   "cell_type": "code",
   "execution_count": 18,
   "metadata": {},
   "outputs": [
    {
     "data": {
      "text/plain": [
       "0.76"
      ]
     },
     "execution_count": 18,
     "metadata": {},
     "output_type": "execute_result"
    }
   ],
   "source": [
    "a1 = 0.85\n",
    "\n",
    "def a2_error_for_alpha(m, n, a0, a1, alpha):\n",
    "    res = [0 for i in range(m)]\n",
    "    for i in range(m):\n",
    "        sample = generate_sample(n, a1)\n",
    "        res[i] = int(check_hypothesis2(sample, a0, alpha, False))\n",
    "    return sum(res)/m\n",
    "\n",
    "a2_error_for_alpha(m, n, a0, a1, 0.01)"
   ]
  },
  {
   "cell_type": "code",
   "execution_count": 19,
   "metadata": {},
   "outputs": [
    {
     "data": {
      "text/plain": [
       "<matplotlib.collections.PathCollection at 0x7f855d25c2e0>"
      ]
     },
     "execution_count": 19,
     "metadata": {},
     "output_type": "execute_result"
    },
    {
     "data": {
      "image/png": "[encoded data removed]",
      "text/plain": [
       "<Figure size 432x288 with 1 Axes>"
      ]
     },
     "metadata": {
      "needs_background": "light"
     },
     "output_type": "display_data"
    }
   ],
   "source": [
    "def check_alpha_dependency_a2_error():\n",
    "    alphas = np.arange(0, 0.5, 0.01)\n",
    "    res = {}\n",
    "    for alpha in alphas:\n",
    "        res[alpha] = a2_error_for_alpha(m, n, a0, a1, alpha)\n",
    "    return res\n",
    "\n",
    "dots = check_alpha_dependency_a2_error()\n",
    "\n",
    "xs = dots.keys()\n",
    "ys = [dots[i] for i in xs]\n",
    "plt.scatter(xs, ys)"
   ]
  },
  {
   "cell_type": "code",
   "execution_count": 20,
   "metadata": {},
   "outputs": [
    {
     "data": {
      "text/plain": [
       "<matplotlib.collections.PathCollection at 0x7f855d1ddd90>"
      ]
     },
     "execution_count": 20,
     "metadata": {},
     "output_type": "execute_result"
    },
    {
     "data": {
      "image/png": "[encoded data removed]",
      "text/plain": [
       "<Figure size 432x288 with 1 Axes>"
      ]
     },
     "metadata": {
      "needs_background": "light"
     },
     "output_type": "display_data"
    }
   ],
   "source": [
    "a1 = 0.8\n",
    "\n",
    "dots = check_alpha_dependency_a2_error()\n",
    "\n",
    "xs = dots.keys()\n",
    "ys = [dots[i] for i in xs]\n",
    "plt.scatter(xs, ys)"
   ]
  },
  {
   "cell_type": "code",
   "execution_count": 21,
   "metadata": {},
   "outputs": [
    {
     "data": {
      "text/plain": [
       "<matplotlib.collections.PathCollection at 0x7f855d0e8c10>"
      ]
     },
     "execution_count": 21,
     "metadata": {},
     "output_type": "execute_result"
    },
    {
     "data": {
      "image/png": "[encoded data removed]",
      "text/plain": [
       "<Figure size 432x288 with 1 Axes>"
      ]
     },
     "metadata": {
      "needs_background": "light"
     },
     "output_type": "display_data"
    }
   ],
   "source": [
    "a1 = 0.7\n",
    "\n",
    "dots = check_alpha_dependency_a2_error()\n",
    "\n",
    "xs = dots.keys()\n",
    "ys = [dots[i] for i in xs]\n",
    "plt.scatter(xs, ys)"
   ]
  },
  {
   "cell_type": "code",
   "execution_count": 22,
   "metadata": {},
   "outputs": [
    {
     "data": {
      "text/plain": [
       "<matplotlib.collections.PathCollection at 0x7f855d0af340>"
      ]
     },
     "execution_count": 22,
     "metadata": {},
     "output_type": "execute_result"
    },
    {
     "data": {
      "image/png": "[encoded data removed]",
      "text/plain": [
       "<Figure size 432x288 with 1 Axes>"
      ]
     },
     "metadata": {
      "needs_background": "light"
     },
     "output_type": "display_data"
    }
   ],
   "source": [
    "a1 = 0.9\n",
    "\n",
    "dots = check_alpha_dependency_a2_error()\n",
    "\n",
    "xs = dots.keys()\n",
    "ys = [dots[i] for i in xs]\n",
    "plt.scatter(xs, ys)"
   ]
  },
  {
   "cell_type": "code",
   "execution_count": 23,
   "metadata": {},
   "outputs": [
    {
     "data": {
      "text/plain": [
       "<matplotlib.collections.PathCollection at 0x7f855d05ef70>"
      ]
     },
     "execution_count": 23,
     "metadata": {},
     "output_type": "execute_result"
    },
    {
     "data": {
      "image/png": "[encoded data removed]",
      "text/plain": [
       "<Figure size 432x288 with 1 Axes>"
      ]
     },
     "metadata": {
      "needs_background": "light"
     },
     "output_type": "display_data"
    }
   ],
   "source": [
    "a1 = 1\n",
    "\n",
    "dots = check_alpha_dependency_a2_error()\n",
    "\n",
    "xs = dots.keys()\n",
    "ys = [dots[i] for i in xs]\n",
    "plt.scatter(xs, ys)"
   ]
  },
  {
   "cell_type": "code",
   "execution_count": 24,
   "metadata": {},
   "outputs": [
    {
     "data": {
      "text/plain": [
       "<matplotlib.collections.PathCollection at 0x7f855d22c9a0>"
      ]
     },
     "execution_count": 24,
     "metadata": {},
     "output_type": "execute_result"
    },
    {
     "data": {
      "image/png": "[encoded data removed]",
      "text/plain": [
       "<Figure size 432x288 with 1 Axes>"
      ]
     },
     "metadata": {
      "needs_background": "light"
     },
     "output_type": "display_data"
    }
   ],
   "source": [
    "a1 = 0.3\n",
    "\n",
    "dots = check_alpha_dependency_a2_error()\n",
    "\n",
    "xs = dots.keys()\n",
    "ys = [dots[i] for i in xs]\n",
    "plt.scatter(xs, ys)"
   ]
  }
 ],
 "metadata": {
  "kernelspec": {
   "display_name": "Python 3",
   "language": "python",
   "name": "python3"
  },
  "language_info": {
   "codemirror_mode": {
    "name": "ipython",
    "version": 3
   },
   "file_extension": ".py",
   "mimetype": "text/x-python",
   "name": "python",
   "nbconvert_exporter": "python",
   "pygments_lexer": "ipython3",
   "version": "3.8.5"
  }
 },
 "nbformat": 4,
 "nbformat_minor": 4
}
