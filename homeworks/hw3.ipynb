{
 "cells": [
  {
   "cell_type": "markdown",
   "metadata": {},
   "source": [
    "# Task 1"
   ]
  },
  {
   "cell_type": "markdown",
   "metadata": {},
   "source": [
    "Below there is a tex"
   ]
  },
  {
   "attachments": {},
   "cell_type": "markdown",
   "metadata": {},
   "source": [
    "![photo_5377444426806314722_y.jpg](hw3_photo_5377444426806314722_y.jpg)"
   ]
  },
  {
   "cell_type": "markdown",
   "metadata": {},
   "source": [
    "$ \\frac{\\sqrt{n}(\\overline{x}-\\mu)}{\\overline{s}} \\sim t_{n-1} $ - Student t-distribution with n-1 degrees of freedom\n",
    "\n",
    "$ P(x_{\\frac{\\alpha}{2}} \\leq \\frac{\\sqrt{n}(\\overline{x}-\\mu)}{\\overline{s}} \\leq x_{1 - \\frac{\\alpha}{2}}) = \\alpha$\n",
    "\n",
    "quantiles $x_{\\frac{\\alpha}{2}}$ and $x_{1 - \\frac{\\alpha}{2}}$ of $t_{n-1}$\n",
    "\n",
    "$ P(\\overline{x} - \\frac{\\overline{s} x_{1 - \\frac{\\alpha}{2}}}{\\sqrt{n}} \\leq \\mu \\leq \\overline{x} - \\frac{\\overline{s} x_{\\frac{\\alpha}{2}}}{\\sqrt{n}}) = \\alpha$ , by 10 and 11 slides of slides part 3"
   ]
  },
  {
   "cell_type": "markdown",
   "metadata": {},
   "source": [
    "So here we got quantiles of t-Student distribution. "
   ]
  },
  {
   "cell_type": "code",
   "execution_count": 2,
   "metadata": {},
   "outputs": [
    {
     "data": {
      "text/plain": [
       "array([-2.57058184,  2.57058184])"
      ]
     },
     "execution_count": 2,
     "metadata": {},
     "output_type": "execute_result"
    }
   ],
   "source": [
    "from scipy.stats import t\n",
    "\n",
    "t(df = 5).ppf((0.025, 0.975))"
   ]
  },
  {
   "cell_type": "code",
   "execution_count": 3,
   "metadata": {},
   "outputs": [
    {
     "data": {
      "text/plain": [
       "array([-1.98397152,  1.98397152])"
      ]
     },
     "execution_count": 3,
     "metadata": {},
     "output_type": "execute_result"
    }
   ],
   "source": [
    "t(df = 100).ppf((0.025, 0.975))"
   ]
  },
  {
   "cell_type": "code",
   "execution_count": 4,
   "metadata": {},
   "outputs": [
    {
     "data": {
      "text/plain": [
       "array([-12.70620474,  12.70620474])"
      ]
     },
     "execution_count": 4,
     "metadata": {},
     "output_type": "execute_result"
    }
   ],
   "source": [
    "t(df = 1).ppf((0.025, 0.975))"
   ]
  },
  {
   "cell_type": "code",
   "execution_count": 5,
   "metadata": {},
   "outputs": [
    {
     "data": {
      "text/plain": [
       "array([-1.96043855,  1.96043855])"
      ]
     },
     "execution_count": 5,
     "metadata": {},
     "output_type": "execute_result"
    }
   ],
   "source": [
    "t(df = 5000).ppf((0.025, 0.975))"
   ]
  },
  {
   "cell_type": "markdown",
   "metadata": {},
   "source": [
    "When n is small confedence interval is growing and when n is high the confedence interval limits to particular value."
   ]
  },
  {
   "cell_type": "markdown",
   "metadata": {},
   "source": [
    "# Task 2"
   ]
  },
  {
   "cell_type": "markdown",
   "metadata": {},
   "source": [
    "Below there is a tex"
   ]
  },
  {
   "cell_type": "markdown",
   "metadata": {},
   "source": [
    "![hw3_photo_5377444426806314773_y.jpg](hw3_photo_5377444426806314773_y.jpg)"
   ]
  },
  {
   "cell_type": "markdown",
   "metadata": {},
   "source": [
    "![hw3_photo_5377444426806314774_y.jpg](hw3_photo_5377444426806314774_y.jpg)"
   ]
  },
  {
   "cell_type": "markdown",
   "metadata": {},
   "source": [
    "Conditions:\n",
    "\n",
    "$x_1$, ..., $x_n$ - sample from $Unif(0, \\theta)$\n",
    "\n",
    "$Z = \\frac{x_{max}}{\\theta},$ $x_{max} = max(x_1$, ..., $x_n)$"
   ]
  },
  {
   "cell_type": "markdown",
   "metadata": {},
   "source": [
    "## Part 1"
   ]
  },
  {
   "cell_type": "markdown",
   "metadata": {},
   "source": [
    "Prove that\n",
    "\n",
    "$$\n",
    "F_Z(z) = \\left\\{\n",
    "    \\begin{array}\\\\\n",
    "        1, & \\mbox{if } \\ z < 0 \\\\\n",
    "        z^n, & \\mbox{if } \\ z \\in [0, 1] \\\\\n",
    "        -1, & \\mbox{if } \\ z > 1\n",
    "    \\end{array}\n",
    "\\right.\n",
    "$$"
   ]
  },
  {
   "cell_type": "markdown",
   "metadata": {},
   "source": [
    "a)\n",
    "$$\n",
    " \\left.\n",
    "    \\begin{array} \\\\\n",
    "        x \\in [0, \\theta] \\\\\n",
    "        Z = \\frac{x_{max}}{\\theta}\n",
    "    \\end{array}\n",
    "\\right \\}= z \\in [0, 1] \\rightarrow z<0 \\ F_Z(z) = 0 \\ and \\ x>1 \\ F_Z(z) = 1\n",
    "$$"
   ]
  },
  {
   "cell_type": "markdown",
   "metadata": {},
   "source": [
    "b)\n",
    "\n",
    "$$\n",
    "F_{x_{max}}(z) = P(x_{max} \\leq z) = P(\\forall i \\in x_i \\leq z) = \\prod_{i=1}^n P(x_i \\leq z) = F_x(z)^n \\\\\n",
    "F_z(z) = P(Z \\leq z) = P(\\frac{x_{max}}{\\theta} \\leq z) = F_{x_{max}}(\\theta z) = F_x (\\theta z)^n , \\\\\n",
    "$$\n",
    "\n",
    "$\\theta$ is a param, so we treat it like a constant."
   ]
  },
  {
   "cell_type": "markdown",
   "metadata": {},
   "source": [
    "Distribution function is\n",
    "\n",
    "$$\n",
    "F(x) = \\frac{x - a}{b - a} \\ for \\ a \\leq x \\leq b \\\\ \n",
    "F_x(\\theta z) = \\frac{\\theta z - 0}{\\theta - 0} = z, \\ 0 \\leq \\theta z \\leq \\theta \\\\\n",
    "F_Z(z) = F_x(\\theta z)^n = z^n, \\ 0 \\leq z \\leq 1\n",
    "$$\n",
    "\n",
    "Proven."
   ]
  },
  {
   "cell_type": "markdown",
   "metadata": {},
   "source": [
    "## Part 2"
   ]
  },
  {
   "cell_type": "markdown",
   "metadata": {},
   "source": [
    "For a fixed $\\theta$ find lower boundary $A_{low}$ of the confidence interval for a parameter $\\theta$ for a fiven $1 - \\alpha$"
   ]
  },
  {
   "cell_type": "markdown",
   "metadata": {},
   "source": [
    "$$\n",
    "P(\\theta \\geq A_{low}) = 1 - \\alpha \\\\\n",
    "F_Z(z) = P(x_{max} \\leq \\theta_z) = z^n = P(\\theta \\geq \\frac{x_{max}}{z}) \\\\\n",
    "A_{low} = \\frac{x_{max}}{z} \\\\\n",
    "1 - \\alpha = z^n \\\\\n",
    "A_{low} = \\frac{x_{max}}{z} = \\frac{x_{max}}{\\sqrt[n]{1 - \\alpha}}\n",
    "$$"
   ]
  }
 ],
 "metadata": {
  "kernelspec": {
   "display_name": "Python 3",
   "language": "python",
   "name": "python3"
  },
  "language_info": {
   "codemirror_mode": {
    "name": "ipython",
    "version": 3
   },
   "file_extension": ".py",
   "mimetype": "text/x-python",
   "name": "python",
   "nbconvert_exporter": "python",
   "pygments_lexer": "ipython3",
   "version": "3.8.5"
  }
 },
 "nbformat": 4,
 "nbformat_minor": 4
}
