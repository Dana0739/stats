{
 "cells": [
  {
   "cell_type": "markdown",
   "metadata": {},
   "source": [
    "# Non-parametrics hypothesis testing\n"
   ]
  },
  {
   "cell_type": "markdown",
   "metadata": {},
   "source": [
    "## Task 1\n",
    "\n",
    "Compare αII and β = 1 − αII of t-test and Mann-Whitney test applied\n",
    "to normal data. (You have to take N samples x1, . . . xn from N (a1, σ2\n",
    "1\n",
    "),\n",
    "and N samples y1, . . . yn from N (a2, σ2\n",
    "2\n",
    ") – σ\n",
    "2\n",
    "1 might be equal to σ\n",
    "2\n",
    "2 – and\n",
    "test the hypothesis for each pair of samples.)\n"
   ]
  },
  {
   "cell_type": "code",
   "execution_count": 1,
   "metadata": {},
   "outputs": [],
   "source": [
    "import numpy as np\n",
    "from statistics import mean\n",
    "from scipy import stats\n",
    "import matplotlib.pyplot as plt\n",
    "import math"
   ]
  },
  {
   "cell_type": "code",
   "execution_count": 73,
   "metadata": {},
   "outputs": [],
   "source": [
    "def generate_pair(n = 20, mu1 = 0, sigma = 1, mu2 = 500):\n",
    "    X1 = np.random.normal(mu1, sigma, n)\n",
    "    X2 = np.random.normal(mu2, sigma, n)\n",
    "    return [X1, X2]"
   ]
  },
  {
   "cell_type": "code",
   "execution_count": 149,
   "metadata": {},
   "outputs": [
    {
     "data": {
      "text/plain": [
       "False"
      ]
     },
     "execution_count": 149,
     "metadata": {},
     "output_type": "execute_result"
    }
   ],
   "source": [
    "def t_test(x1, x2, alpha = 0.05):\n",
    "    t_stat = (np.mean(x1) - np.mean(x2)) / np.sqrt(np.std(x1)/len(x1) + np.std(x2)/len(x2))\n",
    "    return np.absolute(t_stat) < stats.norm.ppf(1 - alpha)\n",
    "\n",
    "# from https://onlinelibrary.wiley.com/doi/pdf/10.1002/9780470776124.app1\n",
    "mw_dict_20_20 = {\n",
    "    0.001: 87,\n",
    "    0.005: 106,\n",
    "    0.010: 115,\n",
    "    0.025: 127,\n",
    "    0.050: 138,\n",
    "    0.100: 152\n",
    "}\n",
    "\n",
    "def mw_stat(x1, x2, ranks):\n",
    "    n1 = len(x1)\n",
    "    n2 = len(x2)\n",
    "    w = sum([ranks[i] for i in x1])\n",
    "    return n1*n2 + n1*(n1+1)/2 - w\n",
    "\n",
    "def Mann_Whitney_test(x1, x2, alpha = 0.05, debug = False, crits = mw_dict_20_20):\n",
    "    a = np.concatenate([x1, x2])\n",
    "    a.sort()\n",
    "    values = set(a)\n",
    "    ranks = dict()\n",
    "    ctr = 1\n",
    "    for i in values:\n",
    "        n = np.count_nonzero(a == i)\n",
    "        ranks[i] = ctr + (n - 1)/2\n",
    "        ctr += n\n",
    "    stat1 = mw_stat(x1, x2, ranks)\n",
    "    stat2 = mw_stat(x2, x1, ranks)\n",
    "    u = min(stat1, stat2)\n",
    "    crit = crits[alpha]\n",
    "    if (debug):\n",
    "        print(stat1, stat2, \"and CRIT\", crit, \"samples' distributions have equal mean:\", u > crit)\n",
    "    return u > crit\n",
    "\n",
    "x1, x2 = generate_pair()\n",
    "Mann_Whitney_test(x1, x2)"
   ]
  },
  {
   "cell_type": "code",
   "execution_count": 150,
   "metadata": {
    "scrolled": true
   },
   "outputs": [
    {
     "data": {
      "text/plain": [
       "[{0.001: 0.83, 0.005: 0.66, 0.01: 0.57, 0.025: 0.57, 0.05: 0.48, 0.1: 0.47},\n",
       " {0.001: 1.0, 0.005: 0.99, 0.01: 0.98, 0.025: 0.98, 0.05: 0.84, 0.1: 0.71}]"
      ]
     },
     "execution_count": 150,
     "metadata": {},
     "output_type": "execute_result"
    }
   ],
   "source": [
    "def alpha_2_err(alpha, mu1 = 0, mu2 = 1, var = 5, debug = False):\n",
    "    t_test_2_err = 0\n",
    "    mw_2_err = 0\n",
    "    for i in range(100):\n",
    "        x1, x2 = generate_pair(20, mu1, var, mu2)\n",
    "        if t_test(x1, x2, alpha):\n",
    "            t_test_2_err += 1\n",
    "        if Mann_Whitney_test(x1, x2, alpha, debug):\n",
    "            mw_2_err += 1\n",
    "    return [t_test_2_err/100, mw_2_err/100]\n",
    "\n",
    "\n",
    "def test_2_error(mu1 = 0, mu2 = 1, var = 5, debug = False):\n",
    "    alpha_t_test_2_errors = dict()\n",
    "    alpha_mw_2_errors = dict()\n",
    "    for j in mw_dict_20_20.keys():\n",
    "        t_test_err_2, mw_err_2 = alpha_2_err(j, mu1, mu2, var, False)\n",
    "        alpha_t_test_2_errors[j] = t_test_err_2\n",
    "        alpha_mw_2_errors[j] = mw_err_2\n",
    "    return [alpha_t_test_2_errors, alpha_mw_2_errors]\n",
    "\n",
    "test_2_error(debug = True)"
   ]
  },
  {
   "cell_type": "markdown",
   "metadata": {},
   "source": [
    "I checked Mann-Whitney twice and I still don't understand why this Mann-Whitney test is not working even half as good as t test for low variance\n",
    "\n",
    "It works not well, below you can see that:\n",
    "\n",
    "1) Mann Whitney works poorely with all means except last one (difference is 100)\n",
    "\n",
    "2) both tests works worse when variance is high\n",
    "\n",
    "Those things are seen much better using graphs below"
   ]
  },
  {
   "cell_type": "code",
   "execution_count": 151,
   "metadata": {},
   "outputs": [
    {
     "name": "stdout",
     "output_type": "stream",
     "text": [
      "t-test\t|\tMann Whitney\n",
      "[{0.001: 0.74, 0.005: 0.5, 0.01: 0.6, 0.025: 0.59, 0.05: 0.45, 0.1: 0.34}, {0.001: 1.0, 0.005: 0.99, 0.01: 0.95, 0.025: 0.96, 0.05: 0.83, 0.1: 0.71}]\n",
      "[{0.001: 0.03, 0.005: 0.02, 0.01: 0.0, 0.025: 0.0, 0.05: 0.02, 0.1: 0.01}, {0.001: 0.96, 0.005: 0.92, 0.01: 0.95, 0.025: 0.85, 0.05: 0.82, 0.1: 0.66}]\n",
      "[{0.001: 0.43, 0.005: 0.34, 0.01: 0.21, 0.025: 0.06, 0.05: 0.06, 0.1: 0.03}, {0.001: 1.0, 0.005: 0.98, 0.01: 0.98, 0.025: 0.98, 0.05: 0.92, 0.1: 0.85}]\n",
      "[{0.001: 0.0, 0.005: 0.0, 0.01: 0.0, 0.025: 0.0, 0.05: 0.0, 0.1: 0.0}, {0.001: 0.84, 0.005: 0.61, 0.01: 0.48, 0.025: 0.27, 0.05: 0.14, 0.1: 0.03}]\n",
      "[{0.001: 0.0, 0.005: 0.0, 0.01: 0.0, 0.025: 0.0, 0.05: 0.0, 0.1: 0.0}, {0.001: 0.07, 0.005: 0.0, 0.01: 0.0, 0.025: 0.0, 0.05: 0.0, 0.1: 0.0}]\n"
     ]
    }
   ],
   "source": [
    "print(\"t-test\\t|\\tMann Whitney\")\n",
    "print(test_2_error(0, 1, 5))\n",
    "print(test_2_error(0, 5, 5))\n",
    "print(test_2_error(0, 1, 1))\n",
    "print(test_2_error(0, 50, 1))\n",
    "print(test_2_error(0, 100, 1))"
   ]
  },
  {
   "cell_type": "code",
   "execution_count": 152,
   "metadata": {},
   "outputs": [
    {
     "data": {
      "text/plain": [
       "<matplotlib.collections.PathCollection at 0x7f56d9b4ac70>"
      ]
     },
     "execution_count": 152,
     "metadata": {},
     "output_type": "execute_result"
    },
    {
     "data": {
      "image/png": "[encoded data removed]",
      "text/plain": [
       "<Figure size 432x288 with 1 Axes>"
      ]
     },
     "metadata": {
      "needs_background": "light"
     },
     "output_type": "display_data"
    }
   ],
   "source": [
    "t_test_2_err, M_W_test_2_err = test_2_error(0, 1, 5)\n",
    "\n",
    "plt.scatter(t_test_2_err.keys(), t_test_2_err.values())\n",
    "plt.scatter(M_W_test_2_err.keys(), M_W_test_2_err.values())"
   ]
  },
  {
   "cell_type": "code",
   "execution_count": 153,
   "metadata": {},
   "outputs": [
    {
     "data": {
      "text/plain": [
       "<matplotlib.collections.PathCollection at 0x7f56d9d88670>"
      ]
     },
     "execution_count": 153,
     "metadata": {},
     "output_type": "execute_result"
    },
    {
     "data": {
      "image/png": "[encoded data removed]",
      "text/plain": [
       "<Figure size 432x288 with 1 Axes>"
      ]
     },
     "metadata": {
      "needs_background": "light"
     },
     "output_type": "display_data"
    }
   ],
   "source": [
    "t_test_2_err, M_W_test_2_err = test_2_error(0, 5, 5)\n",
    "\n",
    "plt.scatter(t_test_2_err.keys(), t_test_2_err.values())\n",
    "plt.scatter(M_W_test_2_err.keys(), M_W_test_2_err.values())"
   ]
  },
  {
   "cell_type": "code",
   "execution_count": 154,
   "metadata": {},
   "outputs": [
    {
     "data": {
      "text/plain": [
       "<matplotlib.collections.PathCollection at 0x7f56d9ab0b50>"
      ]
     },
     "execution_count": 154,
     "metadata": {},
     "output_type": "execute_result"
    },
    {
     "data": {
      "image/png": "[encoded data removed]",
      "text/plain": [
       "<Figure size 432x288 with 1 Axes>"
      ]
     },
     "metadata": {
      "needs_background": "light"
     },
     "output_type": "display_data"
    }
   ],
   "source": [
    "t_test_2_err, M_W_test_2_err = test_2_error(0, 50, 1)\n",
    "\n",
    "plt.scatter(t_test_2_err.keys(), t_test_2_err.values())\n",
    "plt.scatter(M_W_test_2_err.keys(), M_W_test_2_err.values())"
   ]
  },
  {
   "cell_type": "code",
   "execution_count": 155,
   "metadata": {},
   "outputs": [
    {
     "data": {
      "text/plain": [
       "<matplotlib.collections.PathCollection at 0x7f56d9a19310>"
      ]
     },
     "execution_count": 155,
     "metadata": {},
     "output_type": "execute_result"
    },
    {
     "data": {
      "image/png": "[encoded data removed]",
      "text/plain": [
       "<Figure size 432x288 with 1 Axes>"
      ]
     },
     "metadata": {
      "needs_background": "light"
     },
     "output_type": "display_data"
    }
   ],
   "source": [
    "t_test_2_err, M_W_test_2_err = test_2_error(0, 100, 1)\n",
    "\n",
    "plt.scatter(t_test_2_err.keys(), t_test_2_err.values())\n",
    "plt.scatter(M_W_test_2_err.keys(), M_W_test_2_err.values())"
   ]
  },
  {
   "cell_type": "code",
   "execution_count": 157,
   "metadata": {},
   "outputs": [
    {
     "data": {
      "text/plain": [
       "<matplotlib.collections.PathCollection at 0x7f56d992ef70>"
      ]
     },
     "execution_count": 157,
     "metadata": {},
     "output_type": "execute_result"
    },
    {
     "data": {
      "image/png": "[encoded data removed]",
      "text/plain": [
       "<Figure size 432x288 with 1 Axes>"
      ]
     },
     "metadata": {
      "needs_background": "light"
     },
     "output_type": "display_data"
    }
   ],
   "source": [
    "t_test_2_err, M_W_test_2_err = test_2_error(0, 0.2, 1)\n",
    "\n",
    "plt.scatter(t_test_2_err.keys(), t_test_2_err.values())\n",
    "plt.scatter(M_W_test_2_err.keys(), M_W_test_2_err.values())"
   ]
  },
  {
   "cell_type": "markdown",
   "metadata": {},
   "source": [
    "## Task 2"
   ]
  },
  {
   "cell_type": "code",
   "execution_count": 158,
   "metadata": {},
   "outputs": [],
   "source": [
    "n1 = 13\n",
    "n2 = 14\n",
    "sample1 = [13, 9, 16, 15, 10, 11, 12, 8, 10, 12, 5, 14, 10]\n",
    "sample2 = [15, 9, 18, 12, 14, 17, 20, 19, 16, 13, 14, 17, 10, 9]\n",
    "total = 600\n",
    "\n",
    "crits = {0.05: 56}"
   ]
  },
  {
   "cell_type": "code",
   "execution_count": 161,
   "metadata": {},
   "outputs": [
    {
     "name": "stdout",
     "output_type": "stream",
     "text": [
      "137.0 45.0 and CRIT 56 samples' distributions have equal mean: False\n"
     ]
    },
    {
     "data": {
      "text/plain": [
       "False"
      ]
     },
     "execution_count": 161,
     "metadata": {},
     "output_type": "execute_result"
    }
   ],
   "source": [
    "Mann_Whitney_test(sample1, sample2, 0.05, True, crits)"
   ]
  },
  {
   "cell_type": "code",
   "execution_count": 160,
   "metadata": {},
   "outputs": [
    {
     "data": {
      "text/plain": [
       "False"
      ]
     },
     "execution_count": 160,
     "metadata": {},
     "output_type": "execute_result"
    }
   ],
   "source": [
    "t_test(sample1, sample2)"
   ]
  },
  {
   "cell_type": "code",
   "execution_count": 162,
   "metadata": {},
   "outputs": [
    {
     "data": {
      "text/plain": [
       "11.153846153846153"
      ]
     },
     "execution_count": 162,
     "metadata": {},
     "output_type": "execute_result"
    }
   ],
   "source": [
    "np.mean(sample1)"
   ]
  },
  {
   "cell_type": "code",
   "execution_count": 163,
   "metadata": {},
   "outputs": [
    {
     "data": {
      "text/plain": [
       "14.5"
      ]
     },
     "execution_count": 163,
     "metadata": {},
     "output_type": "execute_result"
    }
   ],
   "source": [
    "np.mean(sample2)"
   ]
  },
  {
   "cell_type": "code",
   "execution_count": 164,
   "metadata": {},
   "outputs": [
    {
     "data": {
      "text/plain": [
       "2.878197989826109"
      ]
     },
     "execution_count": 164,
     "metadata": {},
     "output_type": "execute_result"
    }
   ],
   "source": [
    "np.std(sample1)"
   ]
  },
  {
   "cell_type": "code",
   "execution_count": 165,
   "metadata": {},
   "outputs": [
    {
     "data": {
      "text/plain": [
       "3.4589428608009287"
      ]
     },
     "execution_count": 165,
     "metadata": {},
     "output_type": "execute_result"
    }
   ],
   "source": [
    "np.std(sample2)"
   ]
  }
 ],
 "metadata": {
  "kernelspec": {
   "display_name": "Python 3",
   "language": "python",
   "name": "python3"
  },
  "language_info": {
   "codemirror_mode": {
    "name": "ipython",
    "version": 3
   },
   "file_extension": ".py",
   "mimetype": "text/x-python",
   "name": "python",
   "nbconvert_exporter": "python",
   "pygments_lexer": "ipython3",
   "version": "3.8.5"
  }
 },
 "nbformat": 4,
 "nbformat_minor": 4
}
