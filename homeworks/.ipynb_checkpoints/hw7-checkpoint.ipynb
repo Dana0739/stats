{
 "cells": [
  {
   "cell_type": "markdown",
   "metadata": {},
   "source": [
    "# Non-parametrics hypothesis testing\n"
   ]
  },
  {
   "cell_type": "markdown",
   "metadata": {},
   "source": [
    "## Task 1\n",
    "\n",
    "Compare $\\alpha_{II}$ and $\\beta = 1 - \\alpha_{II}$ of t-test and Mann-Whitney test applied\n",
    "to normal data. (You have to take N samples x1, . . . xn from N (a1, σ2\n",
    "1\n",
    "),\n",
    "and N samples y1, . . . yn from N (a2, σ2\n",
    "2\n",
    ") – σ\n",
    "2\n",
    "1 might be equal to σ\n",
    "2\n",
    "2 – and\n",
    "test the hypothesis for each pair of samples.)\n"
   ]
  },
  {
   "cell_type": "code",
   "execution_count": 1,
   "metadata": {},
   "outputs": [],
   "source": [
    "import numpy as np\n",
    "from statistics import mean\n",
    "from scipy import stats\n",
    "import matplotlib.pyplot as plt\n",
    "import math"
   ]
  },
  {
   "cell_type": "code",
   "execution_count": 2,
   "metadata": {},
   "outputs": [],
   "source": [
    "def generate_pair(n = 20, mu1 = 0, mu2 = 500, sigma = 1):\n",
    "    X1 = np.random.normal(mu1, sigma, n)\n",
    "    X2 = np.random.normal(mu2, sigma, n)\n",
    "    return [X1, X2]"
   ]
  },
  {
   "cell_type": "code",
   "execution_count": 53,
   "metadata": {
    "scrolled": true
   },
   "outputs": [],
   "source": [
    "def alpha_2_err(alpha, mu1 = 0, mu2 = 2, var = 1, n = 100):\n",
    "    t_test_2_err = 0\n",
    "    mw_2_err = 0\n",
    "    for i in range(n):\n",
    "        x1, x2 = generate_pair(100, mu1, mu2, var)\n",
    "        # print(stats.ttest_ind(x1, x2))\n",
    "        if stats.ttest_ind(x1, x2).pvalue > alpha:\n",
    "            t_test_2_err += 1\n",
    "        # print(stats.mannwhitneyu(x1, x2, method=\"exact\"))\n",
    "        #if stats.mannwhitneyu(x1, x2, method=\"exact\").pvalue >= alpha:\n",
    "        if stats.mannwhitneyu(x1, x2).pvalue > alpha:\n",
    "            mw_2_err += 1\n",
    "    return [t_test_2_err/n, mw_2_err/n]\n",
    "\n",
    "\n",
    "def test_2_error(mu1 = 0, mu2 = 1, var = 5):\n",
    "    alpha_t_test_2_errors = []\n",
    "    alpha_mw_2_errors = []\n",
    "    for j in np.arange(0, 1.01, 0.01):\n",
    "        t_test_err_2, mw_err_2 = alpha_2_err(j, mu1, mu2, var, 100)\n",
    "        alpha_t_test_2_errors.append(t_test_err_2)\n",
    "        alpha_mw_2_errors.append(mw_err_2)\n",
    "    return [np.arange(0, 1.01, 0.01), alpha_t_test_2_errors, alpha_mw_2_errors]"
   ]
  },
  {
   "cell_type": "code",
   "execution_count": 54,
   "metadata": {
    "scrolled": true
   },
   "outputs": [],
   "source": [
    "dots = test_2_error(1.5, 1.6, 1)\n",
    "#dots"
   ]
  },
  {
   "cell_type": "code",
   "execution_count": 55,
   "metadata": {},
   "outputs": [
    {
     "data": {
      "text/plain": [
       "<matplotlib.legend.Legend at 0x7f4782bfe100>"
      ]
     },
     "execution_count": 55,
     "metadata": {},
     "output_type": "execute_result"
    },
    {
     "data": {
      "image/png": "[encoded data removed]",
      "text/plain": [
       "<Figure size 432x288 with 1 Axes>"
      ]
     },
     "metadata": {
      "needs_background": "light"
     },
     "output_type": "display_data"
    }
   ],
   "source": [
    "xs = dots[0]\n",
    "y1s = dots[1]\n",
    "plt.scatter(xs, y1s, label='ttest')\n",
    "\n",
    "y2s = dots[2]\n",
    "plt.scatter(xs, y2s, label='Mann Whitney')\n",
    "\n",
    "plt.xlabel(\"alpha\")\n",
    "plt.ylabel(\"alpha 2 error\")\n",
    "plt.legend()"
   ]
  },
  {
   "cell_type": "markdown",
   "metadata": {},
   "source": [
    "They work almost equal, I have a note from lecture in my copybook, that it means that using Mann Whitney test is OK because power is almost not lost. And we see it in here."
   ]
  },
  {
   "cell_type": "markdown",
   "metadata": {},
   "source": [
    "## Task 2"
   ]
  },
  {
   "cell_type": "code",
   "execution_count": 90,
   "metadata": {},
   "outputs": [],
   "source": [
    "n1 = 13\n",
    "n2 = 14\n",
    "sample1 = [13, 9, 16, 15, 10, 11, 12, 8, 10, 12, 5, 14, 10]\n",
    "sample2 = [15, 9, 18, 12, 14, 17, 20, 19, 16, 13, 14, 17, 10, 9]\n",
    "total = 600\n",
    "\n",
    "crits = {0.05: 56}"
   ]
  },
  {
   "cell_type": "code",
   "execution_count": 61,
   "metadata": {},
   "outputs": [
    {
     "data": {
      "text/plain": [
       "MannwhitneyuResult(statistic=45.0, pvalue=0.026639880210561392)"
      ]
     },
     "execution_count": 61,
     "metadata": {},
     "output_type": "execute_result"
    }
   ],
   "source": [
    "stats.mannwhitneyu(sample1, sample2)"
   ]
  },
  {
   "cell_type": "code",
   "execution_count": 62,
   "metadata": {},
   "outputs": [
    {
     "data": {
      "text/plain": [
       "MannwhitneyuResult(statistic=45.0, pvalue=0.02546855915007752)"
      ]
     },
     "execution_count": 62,
     "metadata": {},
     "output_type": "execute_result"
    }
   ],
   "source": [
    "stats.mannwhitneyu(sample1, sample2, method=\"exact\")"
   ]
  },
  {
   "cell_type": "code",
   "execution_count": 106,
   "metadata": {},
   "outputs": [
    {
     "name": "stdout",
     "output_type": "stream",
     "text": [
      "{5: 1, 8: 2, 9: 4.0, 10: 7.5, 11: 10, 12: 12.0, 13: 14.5, 14: 17.0, 15: 19.5, 16: 21.5, 17: 23.5, 18: 25, 19: 26, 20: 27}\n",
      "[5, 8, 9, 9, 9, 10, 10, 10, 10, 11, 12, 12, 12, 13, 13, 14, 14, 14, 15, 15, 16, 16, 17, 17, 18, 19, 20]\n"
     ]
    }
   ],
   "source": [
    "values = [*sample1, *sample2]\n",
    "values.sort()\n",
    "\n",
    "ranks = dict()\n",
    "\n",
    "prev_idx = -1\n",
    "ctr = 0\n",
    "for i, val in enumerate(values):\n",
    "    if values[prev_idx] == val:\n",
    "        ctr += 1\n",
    "        if i + 1 < len(values) and values[i + 1] != values[prev_idx]:\n",
    "            ranks[val] = ctr / 2 + prev_idx + 1\n",
    "            ctr = 0\n",
    "    else:\n",
    "        ranks[val] = i + 1\n",
    "        prev_idx = i\n",
    "    \n",
    "\n",
    "print(ranks)\n",
    "\n",
    "print(values)"
   ]
  },
  {
   "cell_type": "code",
   "execution_count": 107,
   "metadata": {},
   "outputs": [],
   "source": [
    "def W(sample):\n",
    "    return sum([ranks[i] for i in sample])"
   ]
  },
  {
   "cell_type": "code",
   "execution_count": 112,
   "metadata": {},
   "outputs": [
    {
     "data": {
      "text/plain": [
       "45.0"
      ]
     },
     "execution_count": 112,
     "metadata": {},
     "output_type": "execute_result"
    }
   ],
   "source": [
    "def U(sample1,  sample2):\n",
    "    n1 = len(sample1)\n",
    "    n2 = len(sample2)\n",
    "    sum_1 = n1*n2 + n1*(n1 + 1)/2 - W(sample1)\n",
    "    sum_2 = n1*n2 + n2*(n2 + 1)/2 - W(sample2)\n",
    "    return min(sum_1, sum_2)\n",
    "\n",
    "U(sample1, sample2)"
   ]
  },
  {
   "cell_type": "markdown",
   "metadata": {},
   "source": [
    "Using normal approximation we will have\n",
    "\n",
    "$\\frac{(U-\\mu)}{\\sigma} \\to N(0, 1)$\n",
    "\n",
    "where\n",
    "\n",
    "$\\mu = \\frac{n_1 n_2}{2}$\n",
    "\n",
    "and\n",
    "\n",
    "$\\sigma = \\sqrt{(n_1 n_2 (n_1+n_2+1)) / 12}$"
   ]
  },
  {
   "cell_type": "code",
   "execution_count": 120,
   "metadata": {},
   "outputs": [
    {
     "data": {
      "text/plain": [
       "-2.23220329588506"
      ]
     },
     "execution_count": 120,
     "metadata": {},
     "output_type": "execute_result"
    }
   ],
   "source": [
    "n1 = len(sample1)\n",
    "n2 = len(sample2)\n",
    "\n",
    "# I found it here https://www.leansigmacorporation.com/mann-whitney-testing-with-minitab/\n",
    "U_norm = (U(sample1, sample2) - 0.5*n1*n2) / (1/12*n1*n2*(n1+n2+1))**(1/2)\n",
    "\n",
    "U_norm"
   ]
  },
  {
   "cell_type": "code",
   "execution_count": 121,
   "metadata": {},
   "outputs": [],
   "source": [
    "from scipy.stats import norm"
   ]
  },
  {
   "cell_type": "code",
   "execution_count": 122,
   "metadata": {},
   "outputs": [
    {
     "data": {
      "text/plain": [
       "0.012800764846356815"
      ]
     },
     "execution_count": 122,
     "metadata": {},
     "output_type": "execute_result"
    }
   ],
   "source": [
    "norm.cdf(U_norm)"
   ]
  },
  {
   "cell_type": "markdown",
   "metadata": {},
   "source": [
    "Statistics of the criteria using my test and standart library test is equal.\n",
    "Pvalue in both cases is low.\n",
    "We reject the null hypothesis."
   ]
  }
 ],
 "metadata": {
  "kernelspec": {
   "display_name": "Python 3",
   "language": "python",
   "name": "python3"
  },
  "language_info": {
   "codemirror_mode": {
    "name": "ipython",
    "version": 3
   },
   "file_extension": ".py",
   "mimetype": "text/x-python",
   "name": "python",
   "nbconvert_exporter": "python",
   "pygments_lexer": "ipython3",
   "version": "3.8.5"
  }
 },
 "nbformat": 4,
 "nbformat_minor": 4
}
