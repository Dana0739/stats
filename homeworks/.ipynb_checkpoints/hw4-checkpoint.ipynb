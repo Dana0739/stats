{
 "cells": [
  {
   "cell_type": "markdown",
   "metadata": {},
   "source": [
    "# Task 1"
   ]
  },
  {
   "cell_type": "markdown",
   "metadata": {},
   "source": [
    "$$\n",
    "H_0 = p = 0.7\\\\\n",
    "H_1 > 0.7\\\\\n",
    "t(x_1, ..., x_n) = \\frac{\\sqrt{n}(\\overline{x} - p_0)}{\\tilde{s}} \\to N(0, 1)\\\\\n",
    "\\tilde{s} = \\sqrt{p (1-p)}\n",
    "$$\n",
    "\n",
    "By Central Limit Theorem\n",
    "\n",
    "Sample: 80 from 100 are 1, other 20 are 0.\n",
    "\n",
    "I will change $\\alpha$ to find the border value to reject $H_0$.\n",
    "\n",
    "Confidence interval can be not symmetrical because we know that we need to have equal or more value a, so we can have one sided confidence region and one quantile $1 - \\alpha$."
   ]
  },
  {
   "cell_type": "code",
   "execution_count": 42,
   "metadata": {},
   "outputs": [
    {
     "data": {
      "text/plain": [
       "2.1821789023599254"
      ]
     },
     "execution_count": 42,
     "metadata": {},
     "output_type": "execute_result"
    }
   ],
   "source": [
    "def criterion_value(p0, sample):\n",
    "    p = mean(sample)\n",
    "    s = s_asymptotic(p0)\n",
    "    n = len(sample)\n",
    "    return (n**(1/2)) * (p - p0) / s\n",
    "\n",
    "def s_asymptotic(p0):\n",
    "    return (p0 * (1 - p0))**(1/2)\n",
    "\n",
    "def mean(sample):\n",
    "    return sum(sample) / len(sample)\n",
    "\n",
    "sample = [0 for i in range(20)] + [1 for i in range(80)]\n",
    "\n",
    "p0 = 0.7\n",
    "\n",
    "criterion_value(p0, sample)"
   ]
  },
  {
   "cell_type": "code",
   "execution_count": 4,
   "metadata": {},
   "outputs": [],
   "source": [
    "from scipy.stats import t, norm\n",
    "import numpy as np"
   ]
  },
  {
   "cell_type": "code",
   "execution_count": 74,
   "metadata": {
    "scrolled": true
   },
   "outputs": [
    {
     "name": "stdout",
     "output_type": "stream",
     "text": [
      "[0.  0.1 0.2 0.3 0.4 0.5 0.6 0.7 0.8 0.9 1. ]\n"
     ]
    }
   ],
   "source": [
    "def is_in_conf_interval(criterion, quantile):\n",
    "    return criterion <= quantile\n",
    "\n",
    "def quantile(alpha):\n",
    "    return norm(0, 1).ppf(1 - alpha)\n",
    "\n",
    "def check_hypothesis(sample, a0, arange, debug = True):\n",
    "    n = len(sample)\n",
    "    criterion = criterion_value(a0, sample)\n",
    "    if (debug):\n",
    "        print(criterion)\n",
    "    res = [0 for i in arange]\n",
    "    for i in range(len(arange)):\n",
    "        alpha = arange[i]\n",
    "        answer = is_in_conf_interval(criterion, quantile(alpha))\n",
    "        if (debug):\n",
    "            print(\"alpha, quantile, answer\")\n",
    "            print(alpha, quantile(alpha), answer)\n",
    "            print()\n",
    "        res[i] = answer\n",
    "    return res\n",
    "\n",
    "print(np.arange(0.0, 1.1, 0.1))\n",
    "#check_hypothesis(sample, p0, np.arange(0.0, 1.1, 0.1), True)"
   ]
  },
  {
   "cell_type": "code",
   "execution_count": 55,
   "metadata": {
    "scrolled": true
   },
   "outputs": [
    {
     "name": "stdout",
     "output_type": "stream",
     "text": [
      "[0.   0.01 0.02 0.03 0.04 0.05 0.06 0.07 0.08 0.09 0.1 ]\n"
     ]
    },
    {
     "data": {
      "text/plain": [
       "[True, True, False, False, False, False, False, False, False, False, False]"
      ]
     },
     "execution_count": 55,
     "metadata": {},
     "output_type": "execute_result"
    }
   ],
   "source": [
    "print(np.arange(0.0, 0.11, 0.01))\n",
    "check_hypothesis(sample, p0, np.arange(0.0, 0.11, 0.01), False)"
   ]
  },
  {
   "cell_type": "code",
   "execution_count": 58,
   "metadata": {
    "scrolled": true
   },
   "outputs": [
    {
     "name": "stdout",
     "output_type": "stream",
     "text": [
      "[0.01  0.011 0.012 0.013 0.014 0.015 0.016 0.017 0.018 0.019 0.02 ]\n"
     ]
    },
    {
     "data": {
      "text/plain": [
       "[True, True, True, True, True, False, False, False, False, False, False]"
      ]
     },
     "execution_count": 58,
     "metadata": {},
     "output_type": "execute_result"
    }
   ],
   "source": [
    "print(np.arange(0.01, 0.021, 0.001))\n",
    "check_hypothesis(sample, p0, np.arange(0.01, 0.021, 0.001), False)"
   ]
  },
  {
   "cell_type": "markdown",
   "metadata": {},
   "source": [
    "We can't reject $H_0$ with standart $\\alpha = 0.01$.\n",
    "\n",
    "The next question is: What if 740 out of 1000 patients in the test group recovered after one week?"
   ]
  },
  {
   "cell_type": "code",
   "execution_count": 63,
   "metadata": {
    "scrolled": true
   },
   "outputs": [
    {
     "name": "stdout",
     "output_type": "stream",
     "text": [
      "[0.  0.1 0.2 0.3 0.4 0.5 0.6 0.7 0.8 0.9 1. ]\n"
     ]
    },
    {
     "data": {
      "text/plain": [
       "[True, False, False, False, False, False, False, False, False, False, False]"
      ]
     },
     "execution_count": 63,
     "metadata": {},
     "output_type": "execute_result"
    }
   ],
   "source": [
    "sample = [0 for i in range(1000 - 740)] + [1 for i in range(740)]\n",
    "\n",
    "print(np.arange(0.0, 1.1, 0.1))\n",
    "check_hypothesis(sample, p0, np.arange(0.0, 1.1, 0.1), False)"
   ]
  },
  {
   "cell_type": "code",
   "execution_count": 66,
   "metadata": {},
   "outputs": [
    {
     "data": {
      "text/plain": [
       "2.7602622373694192"
      ]
     },
     "execution_count": 66,
     "metadata": {},
     "output_type": "execute_result"
    }
   ],
   "source": [
    "criterion_value(p0, sample)"
   ]
  },
  {
   "cell_type": "code",
   "execution_count": 64,
   "metadata": {},
   "outputs": [
    {
     "name": "stdout",
     "output_type": "stream",
     "text": [
      "[0.   0.01 0.02 0.03 0.04 0.05 0.06 0.07 0.08 0.09]\n"
     ]
    },
    {
     "data": {
      "text/plain": [
       "[True, False, False, False, False, False, False, False, False, False]"
      ]
     },
     "execution_count": 64,
     "metadata": {},
     "output_type": "execute_result"
    }
   ],
   "source": [
    "print(np.arange(0.0, 0.1, 0.01))\n",
    "check_hypothesis(sample, p0, np.arange(0.0, 0.1, 0.01), False)"
   ]
  },
  {
   "cell_type": "code",
   "execution_count": 65,
   "metadata": {},
   "outputs": [
    {
     "name": "stdout",
     "output_type": "stream",
     "text": [
      "[0.    0.001 0.002 0.003 0.004 0.005 0.006 0.007 0.008 0.009]\n"
     ]
    },
    {
     "data": {
      "text/plain": [
       "[True, True, True, False, False, False, False, False, False, False]"
      ]
     },
     "execution_count": 65,
     "metadata": {},
     "output_type": "execute_result"
    }
   ],
   "source": [
    "print(np.arange(0.0, 0.01, 0.001))\n",
    "check_hypothesis(sample, p0, np.arange(0.0, 0.01, 0.001), False)"
   ]
  },
  {
   "cell_type": "markdown",
   "metadata": {},
   "source": [
    "For 740 cured from 1000 $H_0$ can also be rejected with $\\alpha = 0.05$ or even $0.01$, it works for $\\alpha = 0.002$.\n",
    "\n",
    "This happens because our sample size has grown.\n",
    "\n",
    "So we reject it."
   ]
  },
  {
   "cell_type": "markdown",
   "metadata": {},
   "source": [
    "# Task 2"
   ]
  },
  {
   "cell_type": "code",
   "execution_count": 71,
   "metadata": {},
   "outputs": [],
   "source": [
    "import numpy as np"
   ]
  },
  {
   "cell_type": "code",
   "execution_count": 168,
   "metadata": {},
   "outputs": [
    {
     "data": {
      "text/plain": [
       "70"
      ]
     },
     "execution_count": 168,
     "metadata": {},
     "output_type": "execute_result"
    }
   ],
   "source": [
    "def generate_sample(n, a):\n",
    "    return [0 if i > a else 1 for i in np.random.uniform(0, 1, n)]\n",
    "\n",
    "sum(generate_sample(100, a0))"
   ]
  },
  {
   "cell_type": "code",
   "execution_count": 161,
   "metadata": {},
   "outputs": [
    {
     "data": {
      "text/plain": [
       "0.10999999999999999"
      ]
     },
     "execution_count": 161,
     "metadata": {},
     "output_type": "execute_result"
    }
   ],
   "source": [
    "m = 100\n",
    "n = 100\n",
    "a0 = 0.7\n",
    "\n",
    "def a1_error_for_alpha(m, n, a0, alpha):\n",
    "    res = 0\n",
    "    for i in range(m):\n",
    "        sample = generate_sample(n, a0)\n",
    "        res += int(check_hypothesis(sample, a0, [alpha], False)[0])\n",
    "    return 1 - res/m\n",
    "\n",
    "a1_error_for_alpha(m, n, a0, 0.1)"
   ]
  },
  {
   "cell_type": "code",
   "execution_count": 164,
   "metadata": {},
   "outputs": [
    {
     "data": {
      "text/plain": [
       "{0.0: 0.0,\n",
       " 0.05: 0.030000000000000027,\n",
       " 0.1: 0.10999999999999999,\n",
       " 0.15000000000000002: 0.12,\n",
       " 0.2: 0.22999999999999998,\n",
       " 0.25: 0.28,\n",
       " 0.30000000000000004: 0.29000000000000004,\n",
       " 0.35000000000000003: 0.35,\n",
       " 0.4: 0.28,\n",
       " 0.45: 0.5,\n",
       " 0.5: 0.52,\n",
       " 0.55: 0.5700000000000001,\n",
       " 0.6000000000000001: 0.62,\n",
       " 0.65: 0.6599999999999999,\n",
       " 0.7000000000000001: 0.69,\n",
       " 0.75: 0.78,\n",
       " 0.8: 0.78,\n",
       " 0.8500000000000001: 0.83,\n",
       " 0.9: 0.88,\n",
       " 0.9500000000000001: 0.94,\n",
       " 1.0: 1.0}"
      ]
     },
     "execution_count": 164,
     "metadata": {},
     "output_type": "execute_result"
    }
   ],
   "source": [
    "def check_alpha_dependency_a1_error():\n",
    "    alphas = np.arange(0, 1.05, 0.05)\n",
    "    res = {}\n",
    "    for alpha in alphas:\n",
    "        res[alpha] = a1_error_for_alpha(m, n, a0, alpha)\n",
    "    return res\n",
    "\n",
    "dots = check_alpha_dependency_a1_error()\n",
    "dots"
   ]
  },
  {
   "cell_type": "code",
   "execution_count": 154,
   "metadata": {},
   "outputs": [],
   "source": [
    "import matplotlib.pyplot as plt"
   ]
  },
  {
   "cell_type": "code",
   "execution_count": 174,
   "metadata": {},
   "outputs": [
    {
     "data": {
      "text/plain": [
       "Text(0, 0.5, 'alpha 1 error')"
      ]
     },
     "execution_count": 174,
     "metadata": {},
     "output_type": "execute_result"
    },
    {
     "data": {
      "image/png": "[encoded data removed]",
      "text/plain": [
       "<Figure size 432x288 with 1 Axes>"
      ]
     },
     "metadata": {
      "needs_background": "light"
     },
     "output_type": "display_data"
    }
   ],
   "source": [
    "dots = check_alpha_dependency_a1_error()\n",
    "\n",
    "xs = dots.keys()\n",
    "ys = [dots[i] for i in xs]\n",
    "plt.scatter(xs, ys)\n",
    "plt.xlabel(\"alpha\")\n",
    "plt.ylabel(\"alpha 1 error\")"
   ]
  },
  {
   "cell_type": "markdown",
   "metadata": {},
   "source": [
    "Now let's look at the alpha 2 error"
   ]
  },
  {
   "cell_type": "code",
   "execution_count": 191,
   "metadata": {},
   "outputs": [
    {
     "data": {
      "text/plain": [
       "0.09"
      ]
     },
     "execution_count": 191,
     "metadata": {},
     "output_type": "execute_result"
    }
   ],
   "source": [
    "a1 = 0.85\n",
    "\n",
    "def a2_error_for_alpha(m, n, a0, a1, alpha):\n",
    "    res = 0\n",
    "    for i in range(m):\n",
    "        sample = generate_sample(n, a1)\n",
    "        res += int(check_hypothesis(sample, a0, [alpha], False)[0])\n",
    "    return res/m\n",
    "\n",
    "a2_error_for_alpha(m, n, a0, a1, 0.01)"
   ]
  },
  {
   "cell_type": "code",
   "execution_count": 192,
   "metadata": {},
   "outputs": [
    {
     "data": {
      "text/plain": [
       "Text(0, 0.5, 'alpha 2 error')"
      ]
     },
     "execution_count": 192,
     "metadata": {},
     "output_type": "execute_result"
    },
    {
     "data": {
      "image/png": "[encoded data removed]",
      "text/plain": [
       "<Figure size 432x288 with 1 Axes>"
      ]
     },
     "metadata": {
      "needs_background": "light"
     },
     "output_type": "display_data"
    }
   ],
   "source": [
    "def check_alpha_dependency_a2_error(a1):\n",
    "    alphas = np.arange(0, 1.05, 0.025)\n",
    "    res = {}\n",
    "    for alpha in alphas:\n",
    "        res[alpha] = a2_error_for_alpha(m, n, a0, a1, alpha)\n",
    "    return res\n",
    "\n",
    "dots = check_alpha_dependency_a2_error(a1)\n",
    "\n",
    "xs = dots.keys()\n",
    "ys = [dots[i] for i in xs]\n",
    "plt.scatter(xs, ys)\n",
    "plt.xlabel(\"alpha\")\n",
    "plt.ylabel(\"alpha 2 error\")"
   ]
  },
  {
   "cell_type": "code",
   "execution_count": 194,
   "metadata": {},
   "outputs": [
    {
     "data": {
      "text/plain": [
       "Text(0, 0.5, 'alpha 2 error')"
      ]
     },
     "execution_count": 194,
     "metadata": {},
     "output_type": "execute_result"
    },
    {
     "data": {
      "image/png": "[encoded data removed]",
      "text/plain": [
       "<Figure size 432x288 with 1 Axes>"
      ]
     },
     "metadata": {
      "needs_background": "light"
     },
     "output_type": "display_data"
    }
   ],
   "source": [
    "# a1 is alternative hypothesis\n",
    "\n",
    "def alpha2_err_plt_line(a1):\n",
    "    dots = check_alpha_dependency_a2_error(a1)\n",
    "\n",
    "    xs = dots.keys()\n",
    "    ys = [dots[i] for i in xs]\n",
    "    plt.scatter(xs, ys)\n",
    "\n",
    "alpha2_err_plt_line(0.9)\n",
    "alpha2_err_plt_line(0.85)\n",
    "alpha2_err_plt_line(0.8)\n",
    "alpha2_err_plt_line(0.75)\n",
    "alpha2_err_plt_line(0.7)\n",
    "alpha2_err_plt_line(0.6)\n",
    "alpha2_err_plt_line(0.5)\n",
    "\n",
    "plt.xlabel(\"alpha\")\n",
    "plt.ylabel(\"alpha 2 error\")"
   ]
  }
 ],
 "metadata": {
  "kernelspec": {
   "display_name": "Python 3",
   "language": "python",
   "name": "python3"
  },
  "language_info": {
   "codemirror_mode": {
    "name": "ipython",
    "version": 3
   },
   "file_extension": ".py",
   "mimetype": "text/x-python",
   "name": "python",
   "nbconvert_exporter": "python",
   "pygments_lexer": "ipython3",
   "version": "3.8.5"
  }
 },
 "nbformat": 4,
 "nbformat_minor": 4
}
