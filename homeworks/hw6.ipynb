{
 "cells": [
  {
   "cell_type": "markdown",
   "metadata": {},
   "source": [
    "## Task 1"
   ]
  },
  {
   "cell_type": "markdown",
   "metadata": {},
   "source": [
    "For fixed correlation coefficient ρ generate 100 pairs of samples x1, . . . , xn ∼\n",
    "N (a1, σ2\n",
    "1\n",
    ") and y1, . . . , ym ∼ N (a2, σ2\n",
    "2\n",
    "). For each pair apply t-test for\n",
    "independent samples and compute t-statistic and αI . Show how the density\n",
    "plot of t and αI changes when ρ ∈ {−1, −0.5, 0, 0.5, 1}.\n",
    "Hint: to generate dependent normal samples you can use the method\n",
    "described here: click link"
   ]
  },
  {
   "cell_type": "code",
   "execution_count": 70,
   "metadata": {},
   "outputs": [],
   "source": [
    "import numpy as np\n",
    "from statistics import mean\n",
    "from scipy import stats\n",
    "import matplotlib.pyplot as plt\n",
    "import math"
   ]
  },
  {
   "cell_type": "code",
   "execution_count": 19,
   "metadata": {},
   "outputs": [],
   "source": [
    "def generate_pair(corr, n = 100, mu1 = 1, sigma1 = 1, mu2 = 1, sigma2 = 1):\n",
    "    X1 = np.random.normal(0, 1, n)\n",
    "    X2 = np.random.normal(0, 1, n)\n",
    "    X3 = np.add([corr * i for i in X1], [np.sqrt(1 - corr**2) * j for j in X2])\n",
    "    Y1 = [(mu1 + sigma1 * i) for i in X1]\n",
    "    Y2 = [(mu2 + sigma2 * i) for i in X3]\n",
    "    return [Y1, Y2]\n",
    "\n",
    "def generate_samples(corr):\n",
    "    pairs = []\n",
    "    for i in range(100):\n",
    "        pairs.append(generate_pair(corr))\n",
    "    return pairs"
   ]
  },
  {
   "cell_type": "code",
   "execution_count": 27,
   "metadata": {},
   "outputs": [
    {
     "data": {
      "text/plain": [
       "0.0775161862314286"
      ]
     },
     "execution_count": 27,
     "metadata": {},
     "output_type": "execute_result"
    }
   ],
   "source": [
    "def t_test_independant(pair):\n",
    "    return (np.mean(pair[0]) - np.mean(pair[1])) / np.sqrt(np.var(pair[0])**2 / len(pair[0]) + np.var(pair[1])**2 / len(pair[1]))\n",
    "\n",
    "samples = generate_samples(0.5)\n",
    "t_test_independant(samples[99])"
   ]
  },
  {
   "cell_type": "code",
   "execution_count": 28,
   "metadata": {
    "scrolled": true
   },
   "outputs": [
    {
     "data": {
      "text/plain": [
       "[-1.132148797893238,\n",
       " 0.5053809212622016,\n",
       " 0.6247091823379323,\n",
       " 0.11213834191847445,\n",
       " -0.2024143853599256,\n",
       " 0.4286284495886333,\n",
       " 1.1941846683569581,\n",
       " -1.8426353584723338,\n",
       " -0.14979220785831235,\n",
       " 0.840530023142952,\n",
       " -1.211732597012722,\n",
       " 0.9123882664904219,\n",
       " -1.3883122826684222,\n",
       " 1.9689799934397536,\n",
       " -2.1525820098764616,\n",
       " -0.7814246918941357,\n",
       " 0.0009194163062780115,\n",
       " 0.16695410546338527,\n",
       " -0.9645735323375009,\n",
       " -1.3444310903040326,\n",
       " -1.8170838330275354,\n",
       " -2.9105568998650364,\n",
       " 0.21199984517041268,\n",
       " -0.9646607481520483,\n",
       " 0.8125785575858009,\n",
       " -0.01823480662463261,\n",
       " 1.3410878856041084,\n",
       " -0.46300774375174936,\n",
       " -1.8193173564479146,\n",
       " 0.33367928897554394,\n",
       " 2.3625771511253286,\n",
       " 1.448894004785948,\n",
       " -1.592593086003438,\n",
       " 0.08832733166474648,\n",
       " -0.2748728848667791,\n",
       " -0.06318595422400047,\n",
       " -1.3118225532823748,\n",
       " -2.258200393671294,\n",
       " -2.0443591224183666,\n",
       " -0.41840280839664884,\n",
       " 0.5083233070429153,\n",
       " -0.6109581304151932,\n",
       " -0.2526758294309392,\n",
       " 0.8514797763196496,\n",
       " 1.1535575043184467,\n",
       " -0.21455760680311778,\n",
       " 0.3954522101371602,\n",
       " -0.4292255038865759,\n",
       " 0.7646666142884713,\n",
       " -1.7539639088309433,\n",
       " -0.6464146856912467,\n",
       " -1.996177539271943,\n",
       " 1.2898832868658843,\n",
       " 1.806599617656206,\n",
       " 0.9121648397849882,\n",
       " -2.3258225488541067,\n",
       " -0.41738507919435075,\n",
       " 0.1786104291029057,\n",
       " -1.4680780385118921,\n",
       " 2.466032994053654,\n",
       " 3.878691099449733,\n",
       " -0.6247332139676769,\n",
       " 0.1219921814881228,\n",
       " 0.2553114251275636,\n",
       " -1.2546444048692522,\n",
       " -0.41245876128382947,\n",
       " -0.17250887162926634,\n",
       " 2.439928382847367,\n",
       " 1.1895140032432308,\n",
       " 0.40614305384242727,\n",
       " -0.06950664519603099,\n",
       " -0.1325763674840634,\n",
       " 0.6844882862845019,\n",
       " 0.3786342614390404,\n",
       " 0.27739588062368487,\n",
       " -1.3308165131788716,\n",
       " -0.9312387658365129,\n",
       " 1.341216593580171,\n",
       " 0.997154901305749,\n",
       " 0.014831143997630107,\n",
       " -0.24718654435117876,\n",
       " -0.9385597493946101,\n",
       " -0.09046712068881302,\n",
       " -1.283193786714494,\n",
       " -1.1376096355040624,\n",
       " 0.18587880883840086,\n",
       " 0.6219219315882472,\n",
       " 0.4634525490849792,\n",
       " -0.28153042974665915,\n",
       " -1.0341894945813601,\n",
       " -0.3231069744721066,\n",
       " -0.440436740503819,\n",
       " 0.6014964729318614,\n",
       " 0.8668353784887127,\n",
       " 0.7472043799595868,\n",
       " -0.46644056706764697,\n",
       " 1.0248178744527034,\n",
       " -2.3835364610709457,\n",
       " 1.5148729902130307,\n",
       " -0.1561127245267595]"
      ]
     },
     "execution_count": 28,
     "metadata": {},
     "output_type": "execute_result"
    }
   ],
   "source": [
    "def t_stats_array(corr):\n",
    "    t_stats = []\n",
    "    samples = generate_samples(corr)\n",
    "    for pair in samples:\n",
    "        t_stats.append(t_test_independant(pair))\n",
    "    return t_stats\n",
    "\n",
    "t_stats_array(-0.5)"
   ]
  },
  {
   "cell_type": "code",
   "execution_count": 39,
   "metadata": {},
   "outputs": [
    {
     "data": {
      "text/plain": [
       "([-0.055975584109411794,\n",
       "  0.11609059867408647,\n",
       "  -0.04642962471915091,\n",
       "  0.034820139530307805,\n",
       "  0.0],\n",
       " [0.33, 0.12, 0.08, 0.02, 0.0],\n",
       " [-1, -0.5, 0, 0.5, 1])"
      ]
     },
     "execution_count": 39,
     "metadata": {},
     "output_type": "execute_result"
    }
   ],
   "source": [
    "def data_for_plots(quantile = stats.norm.ppf(0.95)):\n",
    "    mean_t = []\n",
    "    a1 = []\n",
    "    p = [-1, -0.5, 0, 0.5, 1]\n",
    "    for corr in p:\n",
    "        tstats = t_stats_array(corr)\n",
    "        mean_t.append(np.mean(tstats))\n",
    "        a1.append(sum([1 for x in tstats if np.absolute(x) > quantile]) / len(tstats))\n",
    "    return mean_t, a1, p\n",
    "\n",
    "data_for_plots()"
   ]
  },
  {
   "cell_type": "code",
   "execution_count": 53,
   "metadata": {},
   "outputs": [
    {
     "data": {
      "image/png": "[encoded data removed]",
      "text/plain": [
       "<Figure size 432x288 with 1 Axes>"
      ]
     },
     "metadata": {
      "needs_background": "light"
     },
     "output_type": "display_data"
    }
   ],
   "source": [
    "t_stats = t_stats_array(-1)\n",
    "\n",
    "bins = np.linspace(math.ceil(min(t_stats)), \n",
    "                   math.floor(max(t_stats)),\n",
    "                   20) # fixed number of bins\n",
    "\n",
    "plt.hist(t_stats, bins=bins, alpha=0.5)\n",
    "\n",
    "t_stats = t_stats_array(-0.5)\n",
    "plt.hist(t_stats, bins=bins, alpha=0.5)\n",
    "t_stats = t_stats_array(0)\n",
    "plt.hist(t_stats, bins=bins, alpha=0.5)\n",
    "t_stats = t_stats_array(0.5)\n",
    "plt.hist(t_stats, bins=bins, alpha=0.5)\n",
    "t_stats = t_stats_array(1)\n",
    "plt.hist(t_stats, bins=bins, alpha=0.5)\n",
    "plt.show()"
   ]
  },
  {
   "cell_type": "code",
   "execution_count": 59,
   "metadata": {},
   "outputs": [
    {
     "data": {
      "image/png": "[encoded data removed]",
      "text/plain": [
       "<Figure size 432x288 with 1 Axes>"
      ]
     },
     "metadata": {
      "needs_background": "light"
     },
     "output_type": "display_data"
    }
   ],
   "source": [
    "t_stats = t_stats_array(-1)\n",
    "\n",
    "plt.hist(t_stats, bins=bins, alpha=0.5)\n",
    "plt.show()"
   ]
  },
  {
   "cell_type": "code",
   "execution_count": 60,
   "metadata": {},
   "outputs": [
    {
     "data": {
      "image/png": "[encoded data removed]",
      "text/plain": [
       "<Figure size 432x288 with 1 Axes>"
      ]
     },
     "metadata": {
      "needs_background": "light"
     },
     "output_type": "display_data"
    }
   ],
   "source": [
    "t_stats = t_stats_array(-0.5)\n",
    "plt.hist(t_stats, bins=bins, alpha=0.5)\n",
    "plt.show()"
   ]
  },
  {
   "cell_type": "code",
   "execution_count": 61,
   "metadata": {},
   "outputs": [
    {
     "data": {
      "image/png": "[encoded data removed]",
      "text/plain": [
       "<Figure size 432x288 with 1 Axes>"
      ]
     },
     "metadata": {
      "needs_background": "light"
     },
     "output_type": "display_data"
    }
   ],
   "source": [
    "t_stats = t_stats_array(0)\n",
    "plt.hist(t_stats, bins=bins, alpha=0.5)\n",
    "plt.show()"
   ]
  },
  {
   "cell_type": "code",
   "execution_count": 62,
   "metadata": {},
   "outputs": [
    {
     "data": {
      "image/png": "[encoded data removed]",
      "text/plain": [
       "<Figure size 432x288 with 1 Axes>"
      ]
     },
     "metadata": {
      "needs_background": "light"
     },
     "output_type": "display_data"
    }
   ],
   "source": [
    "t_stats = t_stats_array(0.5)\n",
    "plt.hist(t_stats, bins=bins, alpha=0.5)\n",
    "plt.show()"
   ]
  },
  {
   "cell_type": "code",
   "execution_count": 63,
   "metadata": {},
   "outputs": [
    {
     "data": {
      "image/png": "[encoded data removed]",
      "text/plain": [
       "<Figure size 432x288 with 1 Axes>"
      ]
     },
     "metadata": {
      "needs_background": "light"
     },
     "output_type": "display_data"
    }
   ],
   "source": [
    "t_stats = t_stats_array(1)\n",
    "plt.hist(t_stats, bins=bins, alpha=0.5)\n",
    "plt.show()"
   ]
  },
  {
   "cell_type": "markdown",
   "metadata": {},
   "source": [
    "Further are just mean values of T"
   ]
  },
  {
   "cell_type": "code",
   "execution_count": 43,
   "metadata": {
    "scrolled": true
   },
   "outputs": [
    {
     "data": {
      "text/plain": [
       "<matplotlib.collections.PathCollection at 0x7f5f7fbe6880>"
      ]
     },
     "execution_count": 43,
     "metadata": {},
     "output_type": "execute_result"
    },
    {
     "data": {
      "image/png": "[encoded data removed]",
      "text/plain": [
       "<Figure size 432x288 with 1 Axes>"
      ]
     },
     "metadata": {
      "needs_background": "light"
     },
     "output_type": "display_data"
    }
   ],
   "source": [
    "t_stats, a1, p = data_for_plots()\n",
    "\n",
    "plt.scatter(p, t_stats)"
   ]
  },
  {
   "cell_type": "markdown",
   "metadata": {},
   "source": [
    "Here is a plot of 1st type error"
   ]
  },
  {
   "cell_type": "code",
   "execution_count": 44,
   "metadata": {},
   "outputs": [
    {
     "data": {
      "text/plain": [
       "<matplotlib.collections.PathCollection at 0x7f5f7fc2db50>"
      ]
     },
     "execution_count": 44,
     "metadata": {},
     "output_type": "execute_result"
    },
    {
     "data": {
      "image/png": "[encoded data removed]",
      "text/plain": [
       "<Figure size 432x288 with 1 Axes>"
      ]
     },
     "metadata": {
      "needs_background": "light"
     },
     "output_type": "display_data"
    }
   ],
   "source": [
    "plt.scatter(p, a1)"
   ]
  },
  {
   "cell_type": "markdown",
   "metadata": {},
   "source": [
    "## Task 2"
   ]
  },
  {
   "cell_type": "markdown",
   "metadata": {},
   "source": [
    "### Part 1"
   ]
  },
  {
   "cell_type": "markdown",
   "metadata": {},
   "source": [
    "When KS test for a simple hypothesis is applied for the complex one\n",
    "(when we estimate the parameters of the distribution θ and test the\n",
    "hypothesis H0 : sample is from P(θ). Show, that in such situation\n",
    "the criterion becomes conservative\n"
   ]
  },
  {
   "cell_type": "code",
   "execution_count": 66,
   "metadata": {},
   "outputs": [
    {
     "data": {
      "text/plain": [
       "array([-0.482359  , -0.54269593,  0.08773733,  0.01728686, -0.87196535,\n",
       "        1.29910968,  0.48878818, -0.52022462, -0.98040114,  2.31353738])"
      ]
     },
     "execution_count": 66,
     "metadata": {},
     "output_type": "execute_result"
    }
   ],
   "source": [
    "def generate_sample(a = 0, s = 1, n = 100):\n",
    "    return np.random.normal(0, 1, n)\n",
    "\n",
    "generate_sample(0, 1, 10)"
   ]
  },
  {
   "cell_type": "code",
   "execution_count": 68,
   "metadata": {
    "scrolled": false
   },
   "outputs": [
    {
     "data": {
      "text/plain": [
       "[array([ 2.79858867, -2.56048766, -0.44126273, -0.35521564, -0.22121259,\n",
       "        -0.5185875 ,  0.113352  ,  1.01854807, -0.74279971,  2.51580249,\n",
       "         0.92248703,  0.37201558,  0.14391506, -0.43342018,  0.60213778,\n",
       "        -1.83811822,  0.33721723,  0.80771729, -0.64285252,  0.4722115 ,\n",
       "        -0.84675161,  0.14631978, -1.78434617,  0.34187152, -0.38188001,\n",
       "         0.51727634, -0.41728501, -1.24692918, -0.45723996,  0.75334992,\n",
       "        -2.71381517, -0.41877111,  2.01766581,  0.34545296,  0.39861633,\n",
       "        -0.24867016,  0.74237262, -0.09251289, -0.61044281,  0.55061585,\n",
       "        -0.48280206, -0.76492306, -0.69967377,  1.53618672,  0.24066271,\n",
       "        -0.12042765,  0.34515597, -0.15896356,  0.12334882,  0.0233794 ,\n",
       "        -1.20138799,  0.41908765,  1.07663413,  1.14814229,  1.09112275,\n",
       "        -0.52913782,  1.47918172, -0.87014688, -0.67493226,  0.15067134,\n",
       "         0.10682626, -0.58124247, -2.10757694, -0.03385593,  0.68006012,\n",
       "        -0.22379365, -0.40471611,  2.16898732,  1.17379532,  0.00690935,\n",
       "        -1.65951022,  1.28389903, -0.95340444, -0.48169399,  0.63689385,\n",
       "        -0.580802  , -1.08575092,  0.46334683, -0.69816473,  0.75523776,\n",
       "        -2.46991105, -1.88573404,  0.27206768,  1.1112333 ,  0.10621269,\n",
       "         0.81147738, -1.22788731, -0.65530709,  1.35028066, -0.42924453,\n",
       "        -0.60866674, -0.60343547,  0.49272716, -0.12764474, -0.08185031,\n",
       "        -1.81398902, -1.30339973, -0.51938173, -0.06475223,  0.85158418])]"
      ]
     },
     "execution_count": 68,
     "metadata": {},
     "output_type": "execute_result"
    }
   ],
   "source": [
    "def generate_samples(n = 100):\n",
    "    return [generate_sample() for i in range(n)]\n",
    "\n",
    "generate_samples(1)"
   ]
  },
  {
   "cell_type": "code",
   "execution_count": 101,
   "metadata": {},
   "outputs": [
    {
     "data": {
      "text/plain": [
       "0.6914624612740131"
      ]
     },
     "execution_count": 101,
     "metadata": {},
     "output_type": "execute_result"
    }
   ],
   "source": [
    "a = 0\n",
    "s = 1\n",
    "\n",
    "def norm_cdf(x):\n",
    "    return stats.norm.cdf(x, loc=a, scale=s)\n",
    "\n",
    "norm_cdf(0.5)"
   ]
  },
  {
   "cell_type": "code",
   "execution_count": 102,
   "metadata": {},
   "outputs": [
    {
     "data": {
      "text/plain": [
       "KstestResult(statistic=0.07619039019493867, pvalue=0.5804739233181007)"
      ]
     },
     "execution_count": 102,
     "metadata": {},
     "output_type": "execute_result"
    }
   ],
   "source": [
    "def ks_test(sample):\n",
    "    return stats.kstest(sample, norm_cdf)\n",
    "\n",
    "ks_test(generate_sample(0, 12))"
   ]
  },
  {
   "cell_type": "code",
   "execution_count": 103,
   "metadata": {},
   "outputs": [
    {
     "data": {
      "text/plain": [
       "KstestResult(statistic=0.5028939959006946, pvalue=6.2504926442562606e-24)"
      ]
     },
     "execution_count": 103,
     "metadata": {},
     "output_type": "execute_result"
    }
   ],
   "source": [
    "rng = np.random.default_rng()\n",
    "\n",
    "ks_test(stats.uniform.rvs(size=100))"
   ]
  },
  {
   "cell_type": "code",
   "execution_count": 126,
   "metadata": {
    "scrolled": true
   },
   "outputs": [],
   "source": [
    "def a1_error_for_plots(step = 0.05, start = 0, end = 1):\n",
    "    a1 = []\n",
    "    a_lvls = np.arange(start, end + step, step)\n",
    "    for a_lvl in a_lvls:\n",
    "        has_error = 0\n",
    "        samples = generate_samples()\n",
    "        for sample in samples:\n",
    "            a = np.mean(sample)\n",
    "            s = np.var(sample)\n",
    "            if (ks_test(sample)[0] > stats.kstwobign.pdf(1 - a_lvl/2, a, s) or ks_test(sample)[0] < stats.kstwobign.pdf(a_lvl/2, a, s)):\n",
    "                has_error += 1\n",
    "        a1.append(has_error / len(samples))\n",
    "    return a_lvls, a1\n",
    "\n",
    "# a1_error_for_plots()"
   ]
  },
  {
   "cell_type": "code",
   "execution_count": 128,
   "metadata": {},
   "outputs": [
    {
     "data": {
      "text/plain": [
       "<matplotlib.collections.PathCollection at 0x7f5f7f271fa0>"
      ]
     },
     "execution_count": 128,
     "metadata": {},
     "output_type": "execute_result"
    },
    {
     "data": {
      "image/png": "[encoded data removed]",
      "text/plain": [
       "<Figure size 432x288 with 1 Axes>"
      ]
     },
     "metadata": {
      "needs_background": "light"
     },
     "output_type": "display_data"
    }
   ],
   "source": [
    "plt_ks_a1_err = a1_error_for_plots(0.01)\n",
    "\n",
    "line = np.arange(0, 1 + 0.1, 0.1)\n",
    "\n",
    "plt.scatter(plt_ks_a1_err[0], plt_ks_a1_err[1])\n",
    "plt.scatter(line, line)"
   ]
  },
  {
   "cell_type": "markdown",
   "metadata": {},
   "source": [
    "### Part 2"
   ]
  },
  {
   "cell_type": "markdown",
   "metadata": {},
   "source": [
    "When χ\n",
    "2 Pearson test is used to test the hypothesis for the continuous\n",
    "distribution. Show how it depends on the discretization."
   ]
  },
  {
   "cell_type": "code",
   "execution_count": 129,
   "metadata": {},
   "outputs": [
    {
     "data": {
      "text/plain": [
       "0.0"
      ]
     },
     "execution_count": 129,
     "metadata": {},
     "output_type": "execute_result"
    }
   ],
   "source": [
    "def chi_squared(O_k, n, p_k):\n",
    "    return (O_k - n * p_k)**2 / (n * p_k)\n",
    "\n",
    "chi_squared(3, 10, 0.3)"
   ]
  },
  {
   "cell_type": "code",
   "execution_count": 136,
   "metadata": {},
   "outputs": [
    {
     "data": {
      "text/plain": [
       "0.5"
      ]
     },
     "execution_count": 136,
     "metadata": {},
     "output_type": "execute_result"
    }
   ],
   "source": [
    "def chi_squared_statistics(observations, left_border, right_border):\n",
    "    O_k = 0\n",
    "    n = len(observations)\n",
    "    p_k = 0\n",
    "    if (left_border == \"-inf\"):\n",
    "        O_k = len(list(filter(lambda score: score <= right_border, observations)))\n",
    "        p_k = stats.norm.cdf(right_border)\n",
    "    elif (right_border == \"inf\"):\n",
    "        O_k = len(list(filter(lambda score: score >= left_border, observations)))\n",
    "        p_k = 1 - stats.norm.cdf(left_border)\n",
    "    else:\n",
    "        O_k = len(list(filter(lambda score: left_border <= score <= right_border, observations)))\n",
    "        p_k = stats.norm.cdf(right_border) - stats.norm.cdf(left_border)\n",
    "    return chi_squared(O_k, n, p_k)\n",
    "\n",
    "chi_squared_statistics([2, 5, 0, 4], '-inf', 0)"
   ]
  },
  {
   "cell_type": "code",
   "execution_count": 150,
   "metadata": {},
   "outputs": [
    {
     "data": {
      "text/plain": [
       "1.0"
      ]
     },
     "execution_count": 150,
     "metadata": {},
     "output_type": "execute_result"
    }
   ],
   "source": [
    "def chi_squared_borders(sample, borders):\n",
    "    res = 0\n",
    "    if (borders == [\"-inf\", \"inf\"]):\n",
    "        return 0\n",
    "    for i in range(len(borders) - 1):\n",
    "        left_border = borders[i]\n",
    "        right_border = borders[i + 1]\n",
    "        res += chi_squared_statistics(sample, left_border, right_border)\n",
    "    return res\n",
    "\n",
    "chi_squared_borders(generate_sample(), ['-inf', 0, 'inf'])"
   ]
  },
  {
   "cell_type": "code",
   "execution_count": 151,
   "metadata": {},
   "outputs": [],
   "source": [
    "def chi_sq_H0_Pvalue(n, borders, n_df):\n",
    "    res = []\n",
    "    for i in np.arange(0, 1.05, 0.05):\n",
    "        err = 0\n",
    "        for j in range(n):\n",
    "            sample = generate_sample(50)\n",
    "            if (chi_squared_borders(sample, borders) > stats.chi2.ppf(i, n_df - 1)):\n",
    "                err += 1\n",
    "        res.append(err / n)\n",
    "    return res[::-1]"
   ]
  },
  {
   "cell_type": "code",
   "execution_count": 161,
   "metadata": {},
   "outputs": [],
   "source": [
    "def check_alpha1_err(n_df):\n",
    "    borders = []\n",
    "    if (n_df == 1):\n",
    "        borders = []\n",
    "    elif (n_df == 2):\n",
    "        borders = [0]\n",
    "    else:\n",
    "        borders = np.arange(-2, 2 + (4 / (n_df - 2)), 4 / (n_df - 2)).tolist()\n",
    "    borders = [\"-inf\"] + borders + [\"inf\"]\n",
    "    return chi_sq_H0_Pvalue(100, borders, n_df)"
   ]
  },
  {
   "cell_type": "code",
   "execution_count": 153,
   "metadata": {},
   "outputs": [
    {
     "data": {
      "text/plain": [
       "<matplotlib.collections.PathCollection at 0x7f5f7efc8b20>"
      ]
     },
     "execution_count": 153,
     "metadata": {},
     "output_type": "execute_result"
    },
    {
     "data": {
      "image/png": "[encoded data removed]",
      "text/plain": [
       "<Figure size 432x288 with 1 Axes>"
      ]
     },
     "metadata": {
      "needs_background": "light"
     },
     "output_type": "display_data"
    }
   ],
   "source": [
    "xs = np.arange(0, 1.05, 0.05)\n",
    "ys = check_alpha1_err(1)\n",
    "plt.scatter(xs, ys)"
   ]
  },
  {
   "cell_type": "code",
   "execution_count": 154,
   "metadata": {},
   "outputs": [
    {
     "data": {
      "text/plain": [
       "<matplotlib.collections.PathCollection at 0x7f5f7efbab20>"
      ]
     },
     "execution_count": 154,
     "metadata": {},
     "output_type": "execute_result"
    },
    {
     "data": {
      "image/png": "[encoded data removed]",
      "text/plain": [
       "<Figure size 432x288 with 1 Axes>"
      ]
     },
     "metadata": {
      "needs_background": "light"
     },
     "output_type": "display_data"
    }
   ],
   "source": [
    "xs = np.arange(0, 1.05, 0.05)\n",
    "ys = check_alpha1_err(2)\n",
    "plt.scatter(xs, ys)"
   ]
  },
  {
   "cell_type": "code",
   "execution_count": 160,
   "metadata": {},
   "outputs": [
    {
     "name": "stdout",
     "output_type": "stream",
     "text": [
      "[-2.0, -0.6666666666666667, 0.6666666666666665, 2.0]\n"
     ]
    },
    {
     "data": {
      "text/plain": [
       "<matplotlib.collections.PathCollection at 0x7f5f7f6ed700>"
      ]
     },
     "execution_count": 160,
     "metadata": {},
     "output_type": "execute_result"
    },
    {
     "data": {
      "image/png": "[encoded data removed]",
      "text/plain": [
       "<Figure size 432x288 with 1 Axes>"
      ]
     },
     "metadata": {
      "needs_background": "light"
     },
     "output_type": "display_data"
    }
   ],
   "source": [
    "xs = np.arange(0, 1.05, 0.05)\n",
    "ys = check_alpha1_err(5)\n",
    "plt.scatter(xs, ys)"
   ]
  },
  {
   "cell_type": "code",
   "execution_count": 156,
   "metadata": {},
   "outputs": [
    {
     "data": {
      "text/plain": [
       "<matplotlib.collections.PathCollection at 0x7f5f7eea4430>"
      ]
     },
     "execution_count": 156,
     "metadata": {},
     "output_type": "execute_result"
    },
    {
     "data": {
      "image/png": "[encoded data removed]",
      "text/plain": [
       "<Figure size 432x288 with 1 Axes>"
      ]
     },
     "metadata": {
      "needs_background": "light"
     },
     "output_type": "display_data"
    }
   ],
   "source": [
    "xs = np.arange(0, 1.05, 0.05)\n",
    "ys = check_alpha1_err(10)\n",
    "plt.scatter(xs, ys)"
   ]
  },
  {
   "cell_type": "code",
   "execution_count": 158,
   "metadata": {},
   "outputs": [
    {
     "data": {
      "text/plain": [
       "<matplotlib.collections.PathCollection at 0x7f5f7ed89ca0>"
      ]
     },
     "execution_count": 158,
     "metadata": {},
     "output_type": "execute_result"
    },
    {
     "data": {
      "image/png": "[encoded data removed]",
      "text/plain": [
       "<Figure size 432x288 with 1 Axes>"
      ]
     },
     "metadata": {
      "needs_background": "light"
     },
     "output_type": "display_data"
    }
   ],
   "source": [
    "xs = np.arange(0, 1.05, 0.05)\n",
    "ys = check_alpha1_err(20)\n",
    "plt.scatter(xs, ys)\n",
    "plt.scatter(xs, xs)"
   ]
  },
  {
   "cell_type": "markdown",
   "metadata": {},
   "source": [
    "I already did it in homework 5 and I think it didn't go well"
   ]
  },
  {
   "cell_type": "markdown",
   "metadata": {},
   "source": [
    "## Task 3"
   ]
  },
  {
   "cell_type": "code",
   "execution_count": null,
   "metadata": {},
   "outputs": [],
   "source": []
  },
  {
   "cell_type": "markdown",
   "metadata": {},
   "source": [
    "## Task 4"
   ]
  },
  {
   "cell_type": "code",
   "execution_count": null,
   "metadata": {},
   "outputs": [],
   "source": []
  }
 ],
 "metadata": {
  "kernelspec": {
   "display_name": "Python 3",
   "language": "python",
   "name": "python3"
  },
  "language_info": {
   "codemirror_mode": {
    "name": "ipython",
    "version": 3
   },
   "file_extension": ".py",
   "mimetype": "text/x-python",
   "name": "python",
   "nbconvert_exporter": "python",
   "pygments_lexer": "ipython3",
   "version": "3.8.5"
  }
 },
 "nbformat": 4,
 "nbformat_minor": 4
}
