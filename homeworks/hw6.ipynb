{
 "cells": [
  {
   "cell_type": "markdown",
   "metadata": {},
   "source": [
    "## Task 1"
   ]
  },
  {
   "cell_type": "markdown",
   "metadata": {},
   "source": [
    "For fixed correlation coefficient ρ generate 100 pairs of samples x1, . . . , xn ∼\n",
    "N (a1, σ2\n",
    "1\n",
    ") and y1, . . . , ym ∼ N (a2, σ2\n",
    "2\n",
    "). For each pair apply t-test for\n",
    "independent samples and compute t-statistic and αI . Show how the density\n",
    "plot of t and αI changes when ρ ∈ {−1, −0.5, 0, 0.5, 1}.\n",
    "Hint: to generate dependent normal samples you can use the method\n",
    "described here: click link"
   ]
  },
  {
   "cell_type": "code",
   "execution_count": 1,
   "metadata": {},
   "outputs": [],
   "source": [
    "import numpy as np\n",
    "from statistics import mean\n",
    "from scipy import stats\n",
    "import matplotlib.pyplot as plt\n",
    "import math"
   ]
  },
  {
   "cell_type": "code",
   "execution_count": 96,
   "metadata": {},
   "outputs": [],
   "source": [
    "def generate_pair(corr, n = 100, mu1 = 1, sigma1 = 1, mu2 = 1, sigma2 = 1):\n",
    "    X1 = np.random.normal(0, 1, n)\n",
    "    X2 = np.random.normal(0, 1, n)\n",
    "    X3 = np.add([corr * i for i in X1], [np.sqrt(1 - corr**2) * j for j in X2])\n",
    "    Y1 = [(mu1 + sigma1 * i) for i in X1]\n",
    "    Y2 = [(mu2 + sigma2 * i) for i in X3]\n",
    "    return [Y1, Y2]\n",
    "\n",
    "def generate_samples(corr):\n",
    "    pairs = []\n",
    "    for i in range(100):\n",
    "        pairs.append(generate_pair(corr))\n",
    "    return pairs"
   ]
  },
  {
   "cell_type": "code",
   "execution_count": 97,
   "metadata": {},
   "outputs": [
    {
     "data": {
      "text/plain": [
       "1.0623893301757898"
      ]
     },
     "execution_count": 97,
     "metadata": {},
     "output_type": "execute_result"
    }
   ],
   "source": [
    "def t_test_independant(pair):\n",
    "    return (np.mean(pair[0]) - np.mean(pair[1])) / np.sqrt(np.var(pair[0])**2 / len(pair[0]) + np.var(pair[1])**2 / len(pair[1]))\n",
    "\n",
    "samples = generate_samples(0.5)\n",
    "t_test_independant(samples[99])"
   ]
  },
  {
   "cell_type": "code",
   "execution_count": 98,
   "metadata": {
    "scrolled": true
   },
   "outputs": [
    {
     "data": {
      "text/plain": [
       "[1.6786333181942907,\n",
       " -0.8432113346929264,\n",
       " 0.47650650435985886,\n",
       " 2.0118963470620597,\n",
       " -0.991075025575979,\n",
       " -1.185741823846657,\n",
       " 0.7881409787490435,\n",
       " -3.115710789488695,\n",
       " 0.05429818439482933,\n",
       " -0.661230572761815,\n",
       " 0.3866106134685177,\n",
       " 0.555942975956747,\n",
       " -2.1352187831012013,\n",
       " 0.5687862186109006,\n",
       " 1.9603748603560962,\n",
       " 0.46883835237889576,\n",
       " 2.3995580032080417,\n",
       " -1.3777970053973279,\n",
       " -0.4572801908719763,\n",
       " -0.20111679866801777,\n",
       " 0.883533556487358,\n",
       " -0.02963512826844131,\n",
       " -0.5520079095580835,\n",
       " -0.3736532991485871,\n",
       " 0.22693275033092541,\n",
       " -0.6955399116219513,\n",
       " -5.899392014973222,\n",
       " -0.4708804354133104,\n",
       " 0.9440702539628271,\n",
       " -0.6278972873995292,\n",
       " -2.377456083723552,\n",
       " -0.6293359202931912,\n",
       " 0.49961129420354294,\n",
       " -0.3716895332087384,\n",
       " -0.2800799736521098,\n",
       " -0.6496251071495367,\n",
       " 0.443266713076881,\n",
       " 1.1398191335445647,\n",
       " -1.086257038738171,\n",
       " -0.038065467328520904,\n",
       " -0.24519979088985575,\n",
       " -1.468848760816636,\n",
       " 0.11686205422366039,\n",
       " -3.3457888259645037,\n",
       " -0.5600031376229697,\n",
       " 1.27803265877931,\n",
       " -1.2012215905634378,\n",
       " -1.8174851361072546,\n",
       " 1.1300267324438518,\n",
       " 0.3590357975773691,\n",
       " -0.2208698057177067,\n",
       " -0.7100472446808472,\n",
       " -0.8522494205830838,\n",
       " -0.17062889978713625,\n",
       " 0.7852630012882598,\n",
       " 0.2404800987604056,\n",
       " 1.8004696648239757,\n",
       " -0.14640473557103253,\n",
       " -0.19501765131711815,\n",
       " 1.1850174639919024,\n",
       " 0.08819951343776537,\n",
       " 0.9067627768407315,\n",
       " 1.6906393174295935,\n",
       " -1.4809394287631663,\n",
       " -1.175629252202765,\n",
       " -2.9338060139043383,\n",
       " -1.025021496012517,\n",
       " 0.711180760909818,\n",
       " -1.177175196115768,\n",
       " 0.01767110016488929,\n",
       " 1.0750907879886624,\n",
       " 1.7814782830490739,\n",
       " 0.5958563797217609,\n",
       " -0.6407476251909882,\n",
       " 0.7986206421782153,\n",
       " -0.7903546271376207,\n",
       " -0.45519549566300105,\n",
       " 1.435103475726593,\n",
       " -0.052882801117648176,\n",
       " 1.0166881634491645,\n",
       " -1.4333447851212398,\n",
       " -0.6408805985591772,\n",
       " -0.5638572739203616,\n",
       " 0.9988020347149618,\n",
       " -0.21660750452154198,\n",
       " -0.6541092694212286,\n",
       " 0.17922871054016548,\n",
       " -1.2864013758900366,\n",
       " -0.5856598126080113,\n",
       " 0.27035334612170886,\n",
       " -0.22389891061224412,\n",
       " -2.1648672562421556,\n",
       " -0.41480948375412346,\n",
       " 0.43972291483441023,\n",
       " -2.0622007051153717,\n",
       " -2.2949814744594157,\n",
       " -2.337384507419087,\n",
       " -0.6161134732899594,\n",
       " 0.27599436092204516,\n",
       " 0.5849761005658431]"
      ]
     },
     "execution_count": 98,
     "metadata": {},
     "output_type": "execute_result"
    }
   ],
   "source": [
    "def t_stats_array(corr):\n",
    "    t_stats = []\n",
    "    samples = generate_samples(corr)\n",
    "    for pair in samples:\n",
    "        t_stats.append(t_test_independant(pair))\n",
    "    return t_stats\n",
    "\n",
    "t_stats_array(-0.5)"
   ]
  },
  {
   "cell_type": "code",
   "execution_count": 99,
   "metadata": {},
   "outputs": [
    {
     "data": {
      "text/plain": [
       "([-0.31824700265074873,\n",
       "  -0.14362050435684046,\n",
       "  -0.13730762388113207,\n",
       "  -0.0023172405397898967,\n",
       "  0.0],\n",
       " [0.25, 0.27, 0.15, 0.01, 0.0],\n",
       " [-1, -0.5, 0, 0.5, 1])"
      ]
     },
     "execution_count": 99,
     "metadata": {},
     "output_type": "execute_result"
    }
   ],
   "source": [
    "def data_for_plots(quantile = stats.norm.ppf(0.95)):\n",
    "    mean_t = []\n",
    "    a1 = []\n",
    "    p = [-1, -0.5, 0, 0.5, 1]\n",
    "    for corr in p:\n",
    "        tstats = t_stats_array(corr)\n",
    "        mean_t.append(np.mean(tstats))\n",
    "        a1.append(sum([1 for x in tstats if np.absolute(x) > quantile]) / len(tstats))\n",
    "    return mean_t, a1, p\n",
    "\n",
    "data_for_plots()"
   ]
  },
  {
   "cell_type": "code",
   "execution_count": 100,
   "metadata": {},
   "outputs": [
    {
     "data": {
      "image/png": "[encoded data removed]",
      "text/plain": [
       "<Figure size 432x288 with 1 Axes>"
      ]
     },
     "metadata": {
      "needs_background": "light"
     },
     "output_type": "display_data"
    }
   ],
   "source": [
    "t_stats = t_stats_array(-1)\n",
    "\n",
    "bins = np.linspace(math.ceil(min(t_stats)), \n",
    "                   math.floor(max(t_stats)),\n",
    "                   20) # fixed number of bins\n",
    "\n",
    "plt.hist(t_stats, bins=bins, alpha=0.5)\n",
    "\n",
    "t_stats = t_stats_array(-0.5)\n",
    "plt.hist(t_stats, bins=bins, alpha=0.5)\n",
    "t_stats = t_stats_array(0)\n",
    "plt.hist(t_stats, bins=bins, alpha=0.5)\n",
    "t_stats = t_stats_array(0.5)\n",
    "plt.hist(t_stats, bins=bins, alpha=0.5)\n",
    "t_stats = t_stats_array(1)\n",
    "plt.hist(t_stats, bins=bins, alpha=0.5)\n",
    "plt.show()"
   ]
  },
  {
   "cell_type": "code",
   "execution_count": 101,
   "metadata": {},
   "outputs": [
    {
     "data": {
      "image/png": "[encoded data removed]",
      "text/plain": [
       "<Figure size 432x288 with 1 Axes>"
      ]
     },
     "metadata": {
      "needs_background": "light"
     },
     "output_type": "display_data"
    }
   ],
   "source": [
    "t_stats = t_stats_array(-1)\n",
    "\n",
    "plt.hist(t_stats, bins=bins, alpha=0.5)\n",
    "plt.show()"
   ]
  },
  {
   "cell_type": "code",
   "execution_count": 102,
   "metadata": {},
   "outputs": [
    {
     "data": {
      "image/png": "[encoded data removed]",
      "text/plain": [
       "<Figure size 432x288 with 1 Axes>"
      ]
     },
     "metadata": {
      "needs_background": "light"
     },
     "output_type": "display_data"
    }
   ],
   "source": [
    "t_stats = t_stats_array(-0.5)\n",
    "plt.hist(t_stats, bins=bins, alpha=0.5)\n",
    "plt.show()"
   ]
  },
  {
   "cell_type": "code",
   "execution_count": 103,
   "metadata": {},
   "outputs": [
    {
     "data": {
      "image/png": "[encoded data removed]",
      "text/plain": [
       "<Figure size 432x288 with 1 Axes>"
      ]
     },
     "metadata": {
      "needs_background": "light"
     },
     "output_type": "display_data"
    }
   ],
   "source": [
    "t_stats = t_stats_array(0)\n",
    "plt.hist(t_stats, bins=bins, alpha=0.5)\n",
    "plt.show()"
   ]
  },
  {
   "cell_type": "code",
   "execution_count": 104,
   "metadata": {},
   "outputs": [
    {
     "data": {
      "image/png": "[encoded data removed]",
      "text/plain": [
       "<Figure size 432x288 with 1 Axes>"
      ]
     },
     "metadata": {
      "needs_background": "light"
     },
     "output_type": "display_data"
    }
   ],
   "source": [
    "t_stats = t_stats_array(0.5)\n",
    "plt.hist(t_stats, bins=bins, alpha=0.5)\n",
    "plt.show()"
   ]
  },
  {
   "cell_type": "code",
   "execution_count": 105,
   "metadata": {},
   "outputs": [
    {
     "data": {
      "image/png": "[encoded data removed]",
      "text/plain": [
       "<Figure size 432x288 with 1 Axes>"
      ]
     },
     "metadata": {
      "needs_background": "light"
     },
     "output_type": "display_data"
    }
   ],
   "source": [
    "t_stats = t_stats_array(1)\n",
    "plt.hist(t_stats, bins=bins, alpha=0.5)\n",
    "plt.show()"
   ]
  },
  {
   "cell_type": "markdown",
   "metadata": {},
   "source": [
    "Further are just mean values of T"
   ]
  },
  {
   "cell_type": "code",
   "execution_count": 106,
   "metadata": {
    "scrolled": true
   },
   "outputs": [
    {
     "data": {
      "text/plain": [
       "<matplotlib.collections.PathCollection at 0x7f260a91fbe0>"
      ]
     },
     "execution_count": 106,
     "metadata": {},
     "output_type": "execute_result"
    },
    {
     "data": {
      "image/png": "[encoded data removed]",
      "text/plain": [
       "<Figure size 432x288 with 1 Axes>"
      ]
     },
     "metadata": {
      "needs_background": "light"
     },
     "output_type": "display_data"
    }
   ],
   "source": [
    "t_stats, a1, p = data_for_plots()\n",
    "\n",
    "plt.scatter(p, t_stats)"
   ]
  },
  {
   "cell_type": "markdown",
   "metadata": {},
   "source": [
    "Below is a plot of 1st type error"
   ]
  },
  {
   "cell_type": "code",
   "execution_count": 107,
   "metadata": {},
   "outputs": [
    {
     "data": {
      "text/plain": [
       "<matplotlib.collections.PathCollection at 0x7f260a9288b0>"
      ]
     },
     "execution_count": 107,
     "metadata": {},
     "output_type": "execute_result"
    },
    {
     "data": {
      "image/png": "[encoded data removed]",
      "text/plain": [
       "<Figure size 432x288 with 1 Axes>"
      ]
     },
     "metadata": {
      "needs_background": "light"
     },
     "output_type": "display_data"
    }
   ],
   "source": [
    "plt.scatter(p, a1)"
   ]
  },
  {
   "cell_type": "markdown",
   "metadata": {},
   "source": [
    "## Task 2"
   ]
  },
  {
   "cell_type": "markdown",
   "metadata": {},
   "source": [
    "### Part 1"
   ]
  },
  {
   "cell_type": "markdown",
   "metadata": {},
   "source": [
    "When KS test for a simple hypothesis is applied for the complex one\n",
    "(when we estimate the parameters of the distribution θ and test the\n",
    "hypothesis H0 : sample is from P(θ). Show, that in such situation\n",
    "the criterion becomes conservative\n"
   ]
  },
  {
   "cell_type": "code",
   "execution_count": 14,
   "metadata": {},
   "outputs": [
    {
     "data": {
      "text/plain": [
       "array([ 0.87753115, -0.12397541, -0.31087181, -0.00861828,  0.33968114,\n",
       "       -0.83396161, -2.07324767, -0.09908141, -1.12202266, -0.87043572])"
      ]
     },
     "execution_count": 14,
     "metadata": {},
     "output_type": "execute_result"
    }
   ],
   "source": [
    "def generate_sample(a = 0, s = 1, n = 100):\n",
    "    return np.random.normal(0, 1, n)\n",
    "\n",
    "generate_sample(0, 1, 10)"
   ]
  },
  {
   "cell_type": "code",
   "execution_count": 15,
   "metadata": {
    "scrolled": false
   },
   "outputs": [
    {
     "data": {
      "text/plain": [
       "[array([-0.56411242, -1.44968351, -0.18492686,  0.39767941,  0.14883618,\n",
       "         0.31069836,  0.23570837,  0.68961737,  0.37203743, -0.42573664,\n",
       "         1.10136705, -0.45509967,  0.5187322 , -1.41337869, -0.76005951,\n",
       "         0.52471595,  1.10861062,  0.71960403, -1.0729406 , -1.21221969,\n",
       "        -0.45214461,  1.220457  ,  0.43004724,  2.30138888,  1.45734517,\n",
       "         1.54897284, -0.66301804, -0.60303967, -0.01121668, -1.83652413,\n",
       "        -1.34738031, -0.97000907, -0.12334498,  0.21046681,  1.38313931,\n",
       "         0.32457194,  0.67222743,  0.72070186, -1.23009392,  0.01468634,\n",
       "        -0.53351475,  1.1183115 , -0.11876548,  1.13905022,  0.73492158,\n",
       "         0.10364727,  1.72645417,  0.87665988,  1.01390739,  1.63636015,\n",
       "        -1.39252308,  0.22783842, -0.23513387, -1.2503651 ,  0.80895843,\n",
       "        -0.4482663 ,  1.08923511, -0.61785756, -0.63068052, -2.21882605,\n",
       "        -0.28992409, -0.99792785,  0.09201349, -1.17124022,  0.15147818,\n",
       "        -0.09263378, -0.20427734, -0.74453227,  0.87748817,  0.24673042,\n",
       "        -0.65024641, -0.19161866, -0.92946388,  0.39027325, -0.49465458,\n",
       "         1.13694544, -0.96418221, -0.98063407,  0.09915815,  1.17535229,\n",
       "        -2.77436499,  0.35616387,  1.46385205,  0.40980621, -0.3508695 ,\n",
       "         0.51755533,  0.02087972,  0.63922574,  1.08640258,  0.12737343,\n",
       "         0.6111677 , -0.79863385,  0.6599603 , -1.91036215,  0.1303712 ,\n",
       "        -0.3937895 , -0.67153438, -0.63596736,  1.68283423, -0.22217981])]"
      ]
     },
     "execution_count": 15,
     "metadata": {},
     "output_type": "execute_result"
    }
   ],
   "source": [
    "def generate_samples(n = 100):\n",
    "    return [generate_sample() for i in range(n)]\n",
    "\n",
    "generate_samples(1)"
   ]
  },
  {
   "cell_type": "code",
   "execution_count": 16,
   "metadata": {},
   "outputs": [
    {
     "data": {
      "text/plain": [
       "0.6914624612740131"
      ]
     },
     "execution_count": 16,
     "metadata": {},
     "output_type": "execute_result"
    }
   ],
   "source": [
    "a = 0\n",
    "s = 1\n",
    "\n",
    "def norm_cdf(x):\n",
    "    return stats.norm.cdf(x, loc=a, scale=s)\n",
    "\n",
    "norm_cdf(0.5)"
   ]
  },
  {
   "cell_type": "code",
   "execution_count": 17,
   "metadata": {},
   "outputs": [
    {
     "data": {
      "text/plain": [
       "KstestResult(statistic=0.09713836937873455, pvalue=0.28325575533398906)"
      ]
     },
     "execution_count": 17,
     "metadata": {},
     "output_type": "execute_result"
    }
   ],
   "source": [
    "def ks_test(sample):\n",
    "    return stats.kstest(sample, norm_cdf)\n",
    "\n",
    "ks_test(generate_sample(0, 12))"
   ]
  },
  {
   "cell_type": "code",
   "execution_count": 18,
   "metadata": {},
   "outputs": [
    {
     "data": {
      "text/plain": [
       "KstestResult(statistic=0.5053170530236433, pvalue=3.573556955297327e-24)"
      ]
     },
     "execution_count": 18,
     "metadata": {},
     "output_type": "execute_result"
    }
   ],
   "source": [
    "rng = np.random.default_rng()\n",
    "\n",
    "ks_test(stats.uniform.rvs(size=100))"
   ]
  },
  {
   "cell_type": "code",
   "execution_count": 19,
   "metadata": {
    "scrolled": true
   },
   "outputs": [],
   "source": [
    "def a1_error_for_plots(step = 0.05, start = 0, end = 1):\n",
    "    a1 = []\n",
    "    a_lvls = np.arange(start, end + step, step)\n",
    "    for a_lvl in a_lvls:\n",
    "        has_error = 0\n",
    "        samples = generate_samples()\n",
    "        for sample in samples:\n",
    "            a = np.mean(sample)\n",
    "            s = np.var(sample)\n",
    "            if (ks_test(sample)[0] > stats.kstwobign.pdf(1 - a_lvl/2, a, s) or ks_test(sample)[0] < stats.kstwobign.pdf(a_lvl/2, a, s)):\n",
    "                has_error += 1\n",
    "        a1.append(has_error / len(samples))\n",
    "    return a_lvls, a1\n",
    "\n",
    "# a1_error_for_plots()"
   ]
  },
  {
   "cell_type": "code",
   "execution_count": 20,
   "metadata": {},
   "outputs": [
    {
     "data": {
      "text/plain": [
       "<matplotlib.collections.PathCollection at 0x7f260d81f7c0>"
      ]
     },
     "execution_count": 20,
     "metadata": {},
     "output_type": "execute_result"
    },
    {
     "data": {
      "image/png": "[encoded data removed]",
      "text/plain": [
       "<Figure size 432x288 with 1 Axes>"
      ]
     },
     "metadata": {
      "needs_background": "light"
     },
     "output_type": "display_data"
    }
   ],
   "source": [
    "plt_ks_a1_err = a1_error_for_plots(0.01)\n",
    "\n",
    "line = np.arange(0, 1 + 0.1, 0.1)\n",
    "\n",
    "plt.scatter(plt_ks_a1_err[0], plt_ks_a1_err[1])\n",
    "plt.scatter(line, line)"
   ]
  },
  {
   "cell_type": "markdown",
   "metadata": {},
   "source": [
    "### Part 2"
   ]
  },
  {
   "cell_type": "markdown",
   "metadata": {},
   "source": [
    "When χ\n",
    "2 Pearson test is used to test the hypothesis for the continuous\n",
    "distribution. Show how it depends on the discretization."
   ]
  },
  {
   "cell_type": "code",
   "execution_count": 21,
   "metadata": {},
   "outputs": [
    {
     "data": {
      "text/plain": [
       "0.0"
      ]
     },
     "execution_count": 21,
     "metadata": {},
     "output_type": "execute_result"
    }
   ],
   "source": [
    "def chi_squared(O_k, n, p_k):\n",
    "    return (O_k - n * p_k)**2 / (n * p_k)\n",
    "\n",
    "chi_squared(3, 10, 0.3)"
   ]
  },
  {
   "cell_type": "code",
   "execution_count": 22,
   "metadata": {},
   "outputs": [
    {
     "data": {
      "text/plain": [
       "0.5"
      ]
     },
     "execution_count": 22,
     "metadata": {},
     "output_type": "execute_result"
    }
   ],
   "source": [
    "def chi_squared_statistics(observations, left_border, right_border):\n",
    "    O_k = 0\n",
    "    n = len(observations)\n",
    "    p_k = 0\n",
    "    if (left_border == \"-inf\"):\n",
    "        O_k = len(list(filter(lambda score: score <= right_border, observations)))\n",
    "        p_k = stats.norm.cdf(right_border)\n",
    "    elif (right_border == \"inf\"):\n",
    "        O_k = len(list(filter(lambda score: score >= left_border, observations)))\n",
    "        p_k = 1 - stats.norm.cdf(left_border)\n",
    "    else:\n",
    "        O_k = len(list(filter(lambda score: left_border <= score <= right_border, observations)))\n",
    "        p_k = stats.norm.cdf(right_border) - stats.norm.cdf(left_border)\n",
    "    return chi_squared(O_k, n, p_k)\n",
    "\n",
    "chi_squared_statistics([2, 5, 0, 4], '-inf', 0)"
   ]
  },
  {
   "cell_type": "code",
   "execution_count": 23,
   "metadata": {},
   "outputs": [
    {
     "data": {
      "text/plain": [
       "0.36"
      ]
     },
     "execution_count": 23,
     "metadata": {},
     "output_type": "execute_result"
    }
   ],
   "source": [
    "def chi_squared_borders(sample, borders):\n",
    "    res = 0\n",
    "    if (borders == [\"-inf\", \"inf\"]):\n",
    "        return 0\n",
    "    for i in range(len(borders) - 1):\n",
    "        left_border = borders[i]\n",
    "        right_border = borders[i + 1]\n",
    "        res += chi_squared_statistics(sample, left_border, right_border)\n",
    "    return res\n",
    "\n",
    "chi_squared_borders(generate_sample(), ['-inf', 0, 'inf'])"
   ]
  },
  {
   "cell_type": "code",
   "execution_count": 24,
   "metadata": {},
   "outputs": [],
   "source": [
    "def chi_sq_H0_Pvalue(n, borders, n_df):\n",
    "    res = []\n",
    "    for i in np.arange(0, 1.05, 0.05):\n",
    "        err = 0\n",
    "        for j in range(n):\n",
    "            sample = generate_sample(50)\n",
    "            if (chi_squared_borders(sample, borders) > stats.chi2.ppf(i, n_df - 1)):\n",
    "                err += 1\n",
    "        res.append(err / n)\n",
    "    return res[::-1]"
   ]
  },
  {
   "cell_type": "code",
   "execution_count": 25,
   "metadata": {},
   "outputs": [],
   "source": [
    "def check_alpha1_err(n_df):\n",
    "    borders = []\n",
    "    if (n_df == 1):\n",
    "        borders = []\n",
    "    elif (n_df == 2):\n",
    "        borders = [0]\n",
    "    else:\n",
    "        borders = np.arange(-2, 2 + (4 / (n_df - 2)), 4 / (n_df - 2)).tolist()\n",
    "    borders = [\"-inf\"] + borders + [\"inf\"]\n",
    "    return chi_sq_H0_Pvalue(100, borders, n_df)"
   ]
  },
  {
   "cell_type": "code",
   "execution_count": 26,
   "metadata": {},
   "outputs": [
    {
     "data": {
      "text/plain": [
       "<matplotlib.collections.PathCollection at 0x7f260d7b03d0>"
      ]
     },
     "execution_count": 26,
     "metadata": {},
     "output_type": "execute_result"
    },
    {
     "data": {
      "image/png": "[encoded data removed]",
      "text/plain": [
       "<Figure size 432x288 with 1 Axes>"
      ]
     },
     "metadata": {
      "needs_background": "light"
     },
     "output_type": "display_data"
    }
   ],
   "source": [
    "xs = np.arange(0, 1.05, 0.05)\n",
    "ys = check_alpha1_err(1)\n",
    "plt.scatter(xs, ys)"
   ]
  },
  {
   "cell_type": "code",
   "execution_count": 27,
   "metadata": {},
   "outputs": [
    {
     "data": {
      "text/plain": [
       "<matplotlib.collections.PathCollection at 0x7f260b314490>"
      ]
     },
     "execution_count": 27,
     "metadata": {},
     "output_type": "execute_result"
    },
    {
     "data": {
      "image/png": "[encoded data removed]",
      "text/plain": [
       "<Figure size 432x288 with 1 Axes>"
      ]
     },
     "metadata": {
      "needs_background": "light"
     },
     "output_type": "display_data"
    }
   ],
   "source": [
    "xs = np.arange(0, 1.05, 0.05)\n",
    "ys = check_alpha1_err(2)\n",
    "plt.scatter(xs, ys)"
   ]
  },
  {
   "cell_type": "code",
   "execution_count": 28,
   "metadata": {},
   "outputs": [
    {
     "data": {
      "text/plain": [
       "<matplotlib.collections.PathCollection at 0x7f260d790e80>"
      ]
     },
     "execution_count": 28,
     "metadata": {},
     "output_type": "execute_result"
    },
    {
     "data": {
      "image/png": "[encoded data removed]",
      "text/plain": [
       "<Figure size 432x288 with 1 Axes>"
      ]
     },
     "metadata": {
      "needs_background": "light"
     },
     "output_type": "display_data"
    }
   ],
   "source": [
    "xs = np.arange(0, 1.05, 0.05)\n",
    "ys = check_alpha1_err(5)\n",
    "plt.scatter(xs, ys)"
   ]
  },
  {
   "cell_type": "code",
   "execution_count": 29,
   "metadata": {},
   "outputs": [
    {
     "data": {
      "text/plain": [
       "<matplotlib.collections.PathCollection at 0x7f260b363f70>"
      ]
     },
     "execution_count": 29,
     "metadata": {},
     "output_type": "execute_result"
    },
    {
     "data": {
      "image/png": "[encoded data removed]",
      "text/plain": [
       "<Figure size 432x288 with 1 Axes>"
      ]
     },
     "metadata": {
      "needs_background": "light"
     },
     "output_type": "display_data"
    }
   ],
   "source": [
    "xs = np.arange(0, 1.05, 0.05)\n",
    "ys = check_alpha1_err(10)\n",
    "plt.scatter(xs, ys)"
   ]
  },
  {
   "cell_type": "code",
   "execution_count": 30,
   "metadata": {},
   "outputs": [
    {
     "data": {
      "text/plain": [
       "<matplotlib.collections.PathCollection at 0x7f260b4dab80>"
      ]
     },
     "execution_count": 30,
     "metadata": {},
     "output_type": "execute_result"
    },
    {
     "data": {
      "image/png": "[encoded data removed]",
      "text/plain": [
       "<Figure size 432x288 with 1 Axes>"
      ]
     },
     "metadata": {
      "needs_background": "light"
     },
     "output_type": "display_data"
    }
   ],
   "source": [
    "xs = np.arange(0, 1.05, 0.05)\n",
    "ys = check_alpha1_err(20)\n",
    "plt.scatter(xs, ys)\n",
    "plt.scatter(xs, xs)"
   ]
  },
  {
   "cell_type": "markdown",
   "metadata": {},
   "source": [
    "I already did it in homework 5, it looks like same task twice"
   ]
  },
  {
   "cell_type": "markdown",
   "metadata": {},
   "source": [
    "After asking this on lecture I will try to move the partitions"
   ]
  },
  {
   "cell_type": "code",
   "execution_count": 56,
   "metadata": {},
   "outputs": [],
   "source": [
    "def check_alpha1_err2(n_df):\n",
    "    borders = []\n",
    "    if (n_df == 1):\n",
    "        borders = []\n",
    "    elif (n_df == 2):\n",
    "        borders = [0]\n",
    "    else:\n",
    "        borders = np.arange(-4, 0, 2 / (n_df - 2)).tolist() + [2]\n",
    "    borders = [\"-inf\"] + borders + [\"inf\"]\n",
    "    return chi_sq_H0_Pvalue(100, borders, n_df)"
   ]
  },
  {
   "cell_type": "code",
   "execution_count": 60,
   "metadata": {},
   "outputs": [
    {
     "data": {
      "text/plain": [
       "<matplotlib.collections.PathCollection at 0x7f260ae745b0>"
      ]
     },
     "execution_count": 60,
     "metadata": {},
     "output_type": "execute_result"
    },
    {
     "data": {
      "image/png": "[encoded data removed]",
      "text/plain": [
       "<Figure size 432x288 with 1 Axes>"
      ]
     },
     "metadata": {
      "needs_background": "light"
     },
     "output_type": "display_data"
    }
   ],
   "source": [
    "xs = np.arange(0, 1.05, 0.05)\n",
    "ys = check_alpha1_err2(20)\n",
    "plt.scatter(xs, ys)"
   ]
  },
  {
   "cell_type": "code",
   "execution_count": 61,
   "metadata": {},
   "outputs": [
    {
     "data": {
      "text/plain": [
       "<matplotlib.collections.PathCollection at 0x7f260ade8520>"
      ]
     },
     "execution_count": 61,
     "metadata": {},
     "output_type": "execute_result"
    },
    {
     "data": {
      "image/png": "[encoded data removed]",
      "text/plain": [
       "<Figure size 432x288 with 1 Axes>"
      ]
     },
     "metadata": {
      "needs_background": "light"
     },
     "output_type": "display_data"
    }
   ],
   "source": [
    "xs = np.arange(0, 1.05, 0.05)\n",
    "ys = check_alpha1_err2(10)\n",
    "plt.scatter(xs, ys)"
   ]
  },
  {
   "cell_type": "code",
   "execution_count": 62,
   "metadata": {},
   "outputs": [
    {
     "data": {
      "text/plain": [
       "<matplotlib.collections.PathCollection at 0x7f260ad5b730>"
      ]
     },
     "execution_count": 62,
     "metadata": {},
     "output_type": "execute_result"
    },
    {
     "data": {
      "image/png": "[encoded data removed]",
      "text/plain": [
       "<Figure size 432x288 with 1 Axes>"
      ]
     },
     "metadata": {
      "needs_background": "light"
     },
     "output_type": "display_data"
    }
   ],
   "source": [
    "xs = np.arange(0, 1.05, 0.05)\n",
    "ys = check_alpha1_err2(5)\n",
    "plt.scatter(xs, ys)"
   ]
  },
  {
   "cell_type": "code",
   "execution_count": 63,
   "metadata": {},
   "outputs": [
    {
     "data": {
      "text/plain": [
       "<matplotlib.collections.PathCollection at 0x7f260ad4db80>"
      ]
     },
     "execution_count": 63,
     "metadata": {},
     "output_type": "execute_result"
    },
    {
     "data": {
      "image/png": "[encoded data removed]",
      "text/plain": [
       "<Figure size 432x288 with 1 Axes>"
      ]
     },
     "metadata": {
      "needs_background": "light"
     },
     "output_type": "display_data"
    }
   ],
   "source": [
    "xs = np.arange(0, 1.05, 0.05)\n",
    "ys = check_alpha1_err2(3)\n",
    "plt.scatter(xs, ys)"
   ]
  },
  {
   "cell_type": "markdown",
   "metadata": {},
   "source": [
    "Now I understand that it becomes more radical if you choose wrong partitions!"
   ]
  },
  {
   "cell_type": "markdown",
   "metadata": {},
   "source": [
    "## Task 3"
   ]
  },
  {
   "cell_type": "markdown",
   "metadata": {},
   "source": [
    "The hospital has collected data of ambulance calls for the past 480 hours.\n",
    "It turned out that a total of 960 people asked for the medical assistance\n",
    "during this period. Namely, within 60 hours no one asked for the medical\n",
    "assistance, within 140 hours - one person, within 125 hours - 2 people, and\n",
    "for the remaining 155 hours, ≥ 3 people asked for the medical assistance.\n",
    "Test the hypothesis that the collected data has a Poisson distribution."
   ]
  },
  {
   "cell_type": "markdown",
   "metadata": {},
   "source": [
    "We had MLE for Poisson earlier, so I will use that function from the 2nd lecture, slides 10-11. It says that for Poisson distribution MLE is a sample mean. In our case it is 2."
   ]
  },
  {
   "cell_type": "code",
   "execution_count": 31,
   "metadata": {},
   "outputs": [
    {
     "data": {
      "text/plain": [
       "2.0"
      ]
     },
     "execution_count": 31,
     "metadata": {},
     "output_type": "execute_result"
    }
   ],
   "source": [
    "960/480"
   ]
  },
  {
   "cell_type": "markdown",
   "metadata": {},
   "source": [
    "$$ P(\\xi = k) = \\frac{\\lambda^k}{k!} e^{-\\lambda}, \\\\\n",
    "E(\\xi) = \\lambda, \\\\\n",
    "MLE(\\lambda) = mean = 2$$"
   ]
  },
  {
   "cell_type": "markdown",
   "metadata": {},
   "source": [
    "For a discrete distribution I'll use the Xi squared test"
   ]
  },
  {
   "cell_type": "code",
   "execution_count": 32,
   "metadata": {},
   "outputs": [
    {
     "data": {
      "text/plain": [
       "0.3233235838169365"
      ]
     },
     "execution_count": 32,
     "metadata": {},
     "output_type": "execute_result"
    }
   ],
   "source": [
    "def p(k):\n",
    "    if k == 3:\n",
    "        return 1 - (p(0) + p(1) + p(2))\n",
    "    return 2**k / math.factorial(k) * np.exp(-2)\n",
    "\n",
    "p(3)"
   ]
  },
  {
   "cell_type": "code",
   "execution_count": 75,
   "metadata": {},
   "outputs": [],
   "source": [
    "def discr_chi_sq_part(k, Ok):\n",
    "    pk = p(k) * 480\n",
    "    return (Ok - pk)**2 / pk"
   ]
  },
  {
   "cell_type": "code",
   "execution_count": 76,
   "metadata": {},
   "outputs": [
    {
     "data": {
      "text/plain": [
       "1.347326625773797"
      ]
     },
     "execution_count": 76,
     "metadata": {},
     "output_type": "execute_result"
    }
   ],
   "source": [
    "def discr_chi_sq():\n",
    "    t = 0\n",
    "    t += discr_chi_sq_part(0, 60)\n",
    "    t += discr_chi_sq_part(1, 140)\n",
    "    t += discr_chi_sq_part(2, 125)\n",
    "    t += discr_chi_sq_part(3, 155)\n",
    "    return t\n",
    "\n",
    "discr_chi_sq()"
   ]
  },
  {
   "cell_type": "code",
   "execution_count": 90,
   "metadata": {},
   "outputs": [
    {
     "data": {
      "text/plain": [
       "0.05063561596857975"
      ]
     },
     "execution_count": 90,
     "metadata": {},
     "output_type": "execute_result"
    }
   ],
   "source": [
    "alpha = 0.05\n",
    "\n",
    "stats.chi2.ppf(alpha/2, 2)"
   ]
  },
  {
   "cell_type": "code",
   "execution_count": 91,
   "metadata": {},
   "outputs": [
    {
     "data": {
      "text/plain": [
       "7.377758908227871"
      ]
     },
     "execution_count": 91,
     "metadata": {},
     "output_type": "execute_result"
    }
   ],
   "source": [
    "stats.chi2.ppf(1 - alpha/2, 2)"
   ]
  },
  {
   "cell_type": "markdown",
   "metadata": {},
   "source": [
    "I got 2 degrees of freedom so criterion should be more radical because I used MLE for $\\lambda$ estimation. It appears we can't reject null hypothesis event with the strictened criterion."
   ]
  },
  {
   "cell_type": "markdown",
   "metadata": {},
   "source": [
    "## Task 4"
   ]
  },
  {
   "cell_type": "markdown",
   "metadata": {},
   "source": [
    "The main point to think about is that we have the single sided alternative."
   ]
  },
  {
   "cell_type": "code",
   "execution_count": 37,
   "metadata": {},
   "outputs": [],
   "source": [
    "n1 = 25\n",
    "mean_x = 3.6\n",
    "\n",
    "n2 = 27\n",
    "mean_y = 3.8\n",
    "\n",
    "sig1_sq = 0.36\n",
    "sig2_sq = 0.32\n",
    "\n",
    "alpha = 0.05"
   ]
  },
  {
   "cell_type": "markdown",
   "metadata": {},
   "source": [
    "X ~ N(a1, sig1_sq), Y ~ N(a2, sig2_sq), test that a1 < a2\n",
    "\n",
    "Welch t-test"
   ]
  },
  {
   "cell_type": "code",
   "execution_count": 38,
   "metadata": {},
   "outputs": [
    {
     "data": {
      "text/plain": [
       "1.2371791482634822"
      ]
     },
     "execution_count": 38,
     "metadata": {},
     "output_type": "execute_result"
    }
   ],
   "source": [
    "# for y == x\n",
    "criterion = (mean_y - mean_x) / np.sqrt(sig1_sq/n2 + sig2_sq/n1)\n",
    "\n",
    "criterion"
   ]
  },
  {
   "cell_type": "markdown",
   "metadata": {},
   "source": [
    "The bigger criterion gets the better second battery against 1st one is.\n",
    "\n",
    "It actually means that We might want to use single sided critical region."
   ]
  },
  {
   "cell_type": "code",
   "execution_count": 89,
   "metadata": {},
   "outputs": [
    {
     "data": {
      "text/plain": [
       "1.6448536269514722"
      ]
     },
     "execution_count": 89,
     "metadata": {},
     "output_type": "execute_result"
    }
   ],
   "source": [
    "stats.norm.ppf(0.95)"
   ]
  },
  {
   "cell_type": "markdown",
   "metadata": {},
   "source": [
    "Criterion for $H_0 : y == x$ is outside the confidence region for $\\alpha = 0.05$ so we can't reject the $h_0$\n",
    "\n",
    "So we can't say that the second battery is better than the first one"
   ]
  }
 ],
 "metadata": {
  "kernelspec": {
   "display_name": "Python 3",
   "language": "python",
   "name": "python3"
  },
  "language_info": {
   "codemirror_mode": {
    "name": "ipython",
    "version": 3
   },
   "file_extension": ".py",
   "mimetype": "text/x-python",
   "name": "python",
   "nbconvert_exporter": "python",
   "pygments_lexer": "ipython3",
   "version": "3.8.5"
  }
 },
 "nbformat": 4,
 "nbformat_minor": 4
}
