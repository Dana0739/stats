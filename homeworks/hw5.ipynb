{
 "cells": [
  {
   "cell_type": "code",
   "execution_count": 65,
   "metadata": {},
   "outputs": [],
   "source": [
    "import numpy as np\n",
    "import scipy.stats as spst\n",
    "from matplotlib import pyplot\n",
    "from statistics import mean\n",
    "import math"
   ]
  },
  {
   "cell_type": "code",
   "execution_count": 66,
   "metadata": {},
   "outputs": [
    {
     "data": {
      "text/plain": [
       "array([ 0.67707924,  0.86487927,  0.25942267, -0.03484179,  1.58592831,\n",
       "       -1.76474256,  0.12432761,  0.71271993, -0.47559422,  0.62487576])"
      ]
     },
     "execution_count": 66,
     "metadata": {},
     "output_type": "execute_result"
    }
   ],
   "source": [
    "def generate_sample(n):\n",
    "    return np.random.normal(0, 1, n)\n",
    "\n",
    "sample1 = generate_sample(10)\n",
    "sample1"
   ]
  },
  {
   "cell_type": "code",
   "execution_count": 67,
   "metadata": {},
   "outputs": [
    {
     "data": {
      "text/plain": [
       "['-inf', -2.0, -1.5, -1.0, -0.5, 0.0, 0.5, 1.0, 1.5, 2.0, 'inf']"
      ]
     },
     "execution_count": 67,
     "metadata": {},
     "output_type": "execute_result"
    }
   ],
   "source": [
    "region_borders = [\"-inf\"] + [i/2 for i in range(-4, 5)] + [\"inf\"]\n",
    "region_borders"
   ]
  },
  {
   "cell_type": "code",
   "execution_count": 68,
   "metadata": {},
   "outputs": [
    {
     "data": {
      "text/plain": [
       "9.392975445907684"
      ]
     },
     "execution_count": 68,
     "metadata": {},
     "output_type": "execute_result"
    }
   ],
   "source": [
    "norm = spst.norm(0, 1)\n",
    "\n",
    "def chi_squared(O_k, n, p_k):\n",
    "    return (O_k - n * p_k)**2 / (n * p_k)\n",
    "\n",
    "def chi_squared_statistics(observations, left_border, right_border):\n",
    "    O_k = 0\n",
    "    n = len(observations)\n",
    "    p_k = 0\n",
    "    if (left_border == \"-inf\"):\n",
    "        O_k = len(list(filter(lambda score: score <= right_border, observations)))\n",
    "        p_k = norm.cdf(right_border)\n",
    "    elif (right_border == \"inf\"):\n",
    "        O_k = len(list(filter(lambda score: score >= left_border, observations)))\n",
    "        p_k = 1 - norm.cdf(left_border)\n",
    "    else:\n",
    "        O_k = len(list(filter(lambda score: left_border <= score <= right_border, observations)))\n",
    "        p_k = norm.cdf(right_border) - norm.cdf(left_border)\n",
    "    return chi_squared(O_k, n, p_k)\n",
    "\n",
    "\n",
    "def chi_squared_by_regions(sample):\n",
    "    res = 0\n",
    "    for i in range(len(region_borders) - 1):\n",
    "        left_border = region_borders[i]\n",
    "        right_border = region_borders[i + 1]\n",
    "        res += chi_squared_statistics(sample, left_border, right_border)\n",
    "    return res\n",
    "\n",
    "bar1 = chi_squared_by_regions(sample1)\n",
    "\n",
    "bar1"
   ]
  },
  {
   "cell_type": "code",
   "execution_count": 69,
   "metadata": {},
   "outputs": [
    {
     "data": {
      "text/plain": [
       "[6.28346031349046,\n",
       " 17.10303856627014,\n",
       " 6.364092597429361,\n",
       " 14.516226029255765,\n",
       " 9.205346677598637,\n",
       " 3.1739654075401633,\n",
       " 12.02701351164233,\n",
       " 3.9730198429487658,\n",
       " 8.129154732353648,\n",
       " 13.128743983458431]"
      ]
     },
     "execution_count": 69,
     "metadata": {},
     "output_type": "execute_result"
    }
   ],
   "source": [
    "def check_st_norm_dist_chi_sq_H0(n):\n",
    "    res = [0 for i in range(n)]\n",
    "    for i in range(n):\n",
    "        sample = generate_sample(100)\n",
    "        res[i] = chi_squared_by_regions(sample)\n",
    "    return res\n",
    "\n",
    "check_st_norm_dist_chi_sq_H0(10)"
   ]
  },
  {
   "cell_type": "code",
   "execution_count": 70,
   "metadata": {},
   "outputs": [
    {
     "data": {
      "image/png": "[encoded data removed]",
      "text/plain": [
       "<Figure size 432x288 with 1 Axes>"
      ]
     },
     "metadata": {
      "needs_background": "light"
     },
     "output_type": "display_data"
    }
   ],
   "source": [
    "data = check_st_norm_dist_chi_sq_H0(1000)\n",
    "\n",
    "bins = np.linspace(math.ceil(min(data)), \n",
    "                   math.floor(max(data)),\n",
    "                   20) # fixed number of bins\n",
    "\n",
    "pyplot.hist(data, bins=bins, alpha=0.5)\n",
    "pyplot.show()"
   ]
  },
  {
   "cell_type": "code",
   "execution_count": 71,
   "metadata": {},
   "outputs": [
    {
     "data": {
      "text/plain": [
       "8.984689139515888"
      ]
     },
     "execution_count": 71,
     "metadata": {},
     "output_type": "execute_result"
    }
   ],
   "source": [
    "mean(data)"
   ]
  },
  {
   "cell_type": "markdown",
   "metadata": {},
   "source": [
    "$ P_{H_0} (t(x_1, ..., x_n) ∈ B_{crit}) = P(p < \\alpha) = \\alpha $\n",
    "where t is  statistics of criterion and p is a P-value."
   ]
  },
  {
   "cell_type": "code",
   "execution_count": 92,
   "metadata": {},
   "outputs": [
    {
     "data": {
      "text/plain": [
       "15.50731305586545"
      ]
     },
     "execution_count": 92,
     "metadata": {},
     "output_type": "execute_result"
    }
   ],
   "source": [
    "spst.chi2.ppf(0.95, 8)"
   ]
  },
  {
   "cell_type": "markdown",
   "metadata": {},
   "source": [
    "As I know, the Chi-squared distribution is used for one-sided test, so our mean value (around 9) is in the confidence area (less than 15) for 0.95 quantile.\n",
    "\n",
    "This mean we can not reject the null hypothesis."
   ]
  },
  {
   "cell_type": "markdown",
   "metadata": {},
   "source": [
    "Now I will alter number of breaks but in same area"
   ]
  },
  {
   "cell_type": "code",
   "execution_count": 124,
   "metadata": {},
   "outputs": [],
   "source": [
    "def chi_squared_borders(sample, borders):\n",
    "    res = 0\n",
    "    if (borders == [\"-inf\", \"inf\"]):\n",
    "        return 0\n",
    "    for i in range(len(borders) - 1):\n",
    "        left_border = borders[i]\n",
    "        right_border = borders[i + 1]\n",
    "        res += chi_squared_statistics(sample, left_border, right_border)\n",
    "    return res\n",
    "\n",
    "def chi_sq_H0_Pvalue(n, borders, n_df):\n",
    "    res = []\n",
    "    for i in np.arange(0, 1.01, 0.01):\n",
    "        err = 0\n",
    "        for j in range(n):\n",
    "            sample = generate_sample(100)\n",
    "            if (chi_squared_borders(sample, borders) > spst.chi2.ppf(i, n_df - 1)):\n",
    "                err += 1\n",
    "        res.append(err / n)\n",
    "    return res[::-1]\n",
    "\n",
    "def check_alpha1_err(n_df):\n",
    "    borders = []\n",
    "    if (n_df == 1):\n",
    "        borders = []\n",
    "    elif (n_df == 2):\n",
    "        borders = [0]\n",
    "    else:\n",
    "        borders = np.arange(-2, 2 + (4 / (n_df - 2)), 4 / (n_df - 2)).tolist()\n",
    "    borders = [\"-inf\"] + borders + [\"inf\"]\n",
    "    return chi_sq_H0_Pvalue(100, borders, n_df)\n",
    "\n",
    "# check_alpha1_err(3)"
   ]
  },
  {
   "cell_type": "code",
   "execution_count": 129,
   "metadata": {},
   "outputs": [
    {
     "data": {
      "text/plain": [
       "<matplotlib.collections.PathCollection at 0x7f67705b2c10>"
      ]
     },
     "execution_count": 129,
     "metadata": {},
     "output_type": "execute_result"
    },
    {
     "data": {
      "image/png": "[encoded data removed]",
      "text/plain": [
       "<Figure size 432x288 with 1 Axes>"
      ]
     },
     "metadata": {
      "needs_background": "light"
     },
     "output_type": "display_data"
    }
   ],
   "source": [
    "xs = np.arange(0, 1.01, 0.01)\n",
    "ys = check_alpha1_err(2)\n",
    "pyplot.scatter(xs, ys)"
   ]
  },
  {
   "cell_type": "code",
   "execution_count": 125,
   "metadata": {},
   "outputs": [
    {
     "data": {
      "text/plain": [
       "<matplotlib.collections.PathCollection at 0x7f677076ba30>"
      ]
     },
     "execution_count": 125,
     "metadata": {},
     "output_type": "execute_result"
    },
    {
     "data": {
      "image/png": "[encoded data removed]",
      "text/plain": [
       "<Figure size 432x288 with 1 Axes>"
      ]
     },
     "metadata": {
      "needs_background": "light"
     },
     "output_type": "display_data"
    }
   ],
   "source": [
    "xs = np.arange(0, 1.01, 0.01)\n",
    "ys = check_alpha1_err(3)\n",
    "pyplot.scatter(xs, ys)"
   ]
  },
  {
   "cell_type": "code",
   "execution_count": 126,
   "metadata": {},
   "outputs": [
    {
     "data": {
      "text/plain": [
       "<matplotlib.collections.PathCollection at 0x7f677074ee20>"
      ]
     },
     "execution_count": 126,
     "metadata": {},
     "output_type": "execute_result"
    },
    {
     "data": {
      "image/png": "[encoded data removed]",
      "text/plain": [
       "<Figure size 432x288 with 1 Axes>"
      ]
     },
     "metadata": {
      "needs_background": "light"
     },
     "output_type": "display_data"
    }
   ],
   "source": [
    "xs = np.arange(0, 1.01, 0.01)\n",
    "ys = check_alpha1_err(5)\n",
    "pyplot.scatter(xs, ys)"
   ]
  },
  {
   "cell_type": "code",
   "execution_count": 127,
   "metadata": {},
   "outputs": [
    {
     "data": {
      "text/plain": [
       "<matplotlib.collections.PathCollection at 0x7f67706cfbe0>"
      ]
     },
     "execution_count": 127,
     "metadata": {},
     "output_type": "execute_result"
    },
    {
     "data": {
      "image/png": "[encoded data removed]",
      "text/plain": [
       "<Figure size 432x288 with 1 Axes>"
      ]
     },
     "metadata": {
      "needs_background": "light"
     },
     "output_type": "display_data"
    }
   ],
   "source": [
    "xs = np.arange(0, 1.01, 0.01)\n",
    "ys = check_alpha1_err(10)\n",
    "pyplot.scatter(xs, ys)"
   ]
  },
  {
   "cell_type": "code",
   "execution_count": 128,
   "metadata": {},
   "outputs": [
    {
     "data": {
      "text/plain": [
       "<matplotlib.collections.PathCollection at 0x7f6770640fa0>"
      ]
     },
     "execution_count": 128,
     "metadata": {},
     "output_type": "execute_result"
    },
    {
     "data": {
      "image/png": "[encoded data removed]",
      "text/plain": [
       "<Figure size 432x288 with 1 Axes>"
      ]
     },
     "metadata": {
      "needs_background": "light"
     },
     "output_type": "display_data"
    }
   ],
   "source": [
    "xs = np.arange(0, 1.01, 0.01)\n",
    "ys = check_alpha1_err(20)\n",
    "pyplot.scatter(xs, ys)"
   ]
  },
  {
   "cell_type": "markdown",
   "metadata": {},
   "source": [
    "Nothing changes, even when the df = 3"
   ]
  }
 ],
 "metadata": {
  "kernelspec": {
   "display_name": "Python 3",
   "language": "python",
   "name": "python3"
  },
  "language_info": {
   "codemirror_mode": {
    "name": "ipython",
    "version": 3
   },
   "file_extension": ".py",
   "mimetype": "text/x-python",
   "name": "python",
   "nbconvert_exporter": "python",
   "pygments_lexer": "ipython3",
   "version": "3.8.5"
  }
 },
 "nbformat": 4,
 "nbformat_minor": 4
}
